{
 "cells": [
  {
   "cell_type": "markdown",
   "metadata": {},
   "source": [
    "### Perceptron\n",
    "\n",
    "Input: vector X\n",
    "The main our purpose is to learn vector W\n",
    "\n",
    "#### Activation function:\n",
    "F(Z) = { 1 if Z >= 0      ,\n",
    "\n",
    "      {-1 else\n",
    "\n",
    "#### Update rule:\n",
    "    X.T * (y - f(Xw))"
   ]
  },
  {
   "cell_type": "code",
   "execution_count": 146,
   "metadata": {},
   "outputs": [],
   "source": [
    "import numpy as np"
   ]
  },
  {
   "cell_type": "code",
   "execution_count": 147,
   "metadata": {},
   "outputs": [],
   "source": [
    "class Perceptron:\n",
    "    def __init__(self, eta=0.01, epochs=10, extra_column=True):\n",
    "        \"\"\"\n",
    "        eta: float\n",
    "            Temp of learning (between 0.0 and 1.0)\n",
    "        epochs: int\n",
    "            The number of passes by training set\n",
    "        extra_column: bool\n",
    "            If true add dummy column\n",
    "        \"\"\"\n",
    "        self.eta = eta\n",
    "        self.n_epochs = epochs\n",
    "        self.extra_column = extra_column\n",
    "        \n",
    "    def forward_propogation(self, X, w):\n",
    "        \"\"\"Method calculates a clear entrance\"\"\"\n",
    "        return np.dot(X, w)\n",
    "    \n",
    "    def __add_feature(self, X):\n",
    "        \"\"\"Add dummy column\"\"\"\n",
    "        return np.hstack((np.ones(X.shape[0])[:, np.newaxis], X))\n",
    "    \n",
    "    def fit(self, X, y):\n",
    "        \"\"\"Method fits the model to the training data\"\"\"\n",
    "        self.w = np.zeros(1 + X.shape[1])\n",
    "        self.errors = []\n",
    "        \n",
    "        if self.extra_column:\n",
    "            X = self.__add_feature(X)\n",
    "        \n",
    "        for _ in np.arange(self.n_epochs):\n",
    "            self.w = self.w + self.eta * X.T.dot((y - self.predict(X)))\n",
    "            self.errors.append(np.where(y != self.predict(X))[0].size)\n",
    "                    \n",
    "    def predict(self, X):\n",
    "        \"\"\"Method returns labels of classes\"\"\"\n",
    "        return np.where(self.forward_propogation(X, self.w) >= 0.0, 1, -1)"
   ]
  }
 ],
 "metadata": {
  "kernelspec": {
   "display_name": "Python 3",
   "language": "python",
   "name": "python3"
  },
  "language_info": {
   "codemirror_mode": {
    "name": "ipython",
    "version": 3
   },
   "file_extension": ".py",
   "mimetype": "text/x-python",
   "name": "python",
   "nbconvert_exporter": "python",
   "pygments_lexer": "ipython3",
   "version": "3.7.3"
  }
 },
 "nbformat": 4,
 "nbformat_minor": 2
}
