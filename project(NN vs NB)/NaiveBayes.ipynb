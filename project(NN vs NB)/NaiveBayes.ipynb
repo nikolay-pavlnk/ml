{
 "cells": [
  {
   "cell_type": "code",
   "execution_count": 1,
   "metadata": {},
   "outputs": [
    {
     "data": {
      "text/html": [
       "<script type=\"text/javascript\">window.PlotlyConfig = {MathJaxConfig: 'local'};</script><script type=\"text/javascript\">if (window.MathJax) {MathJax.Hub.Config({SVG: {font: \"STIX-Web\"}});}</script><script>requirejs.config({paths: { 'plotly': ['https://cdn.plot.ly/plotly-latest.min']},});if(!window._Plotly) {require(['plotly'],function(plotly) {window._Plotly=plotly;});}</script>"
      ],
      "text/vnd.plotly.v1+html": [
       "<script type=\"text/javascript\">window.PlotlyConfig = {MathJaxConfig: 'local'};</script><script type=\"text/javascript\">if (window.MathJax) {MathJax.Hub.Config({SVG: {font: \"STIX-Web\"}});}</script><script>requirejs.config({paths: { 'plotly': ['https://cdn.plot.ly/plotly-latest.min']},});if(!window._Plotly) {require(['plotly'],function(plotly) {window._Plotly=plotly;});}</script>"
      ]
     },
     "metadata": {},
     "output_type": "display_data"
    }
   ],
   "source": [
    "import pandas as pd\n",
    "import numpy as np\n",
    "from plotly import tools, offline\n",
    "from sklearn.preprocessing import LabelEncoder\n",
    "from nltk.corpus import stopwords\n",
    "from collections import Counter\n",
    "import re, unicodedata, zipfile, os, nltk\n",
    "from nltk import LancasterStemmer, WordNetLemmatizer\n",
    "from sklearn import model_selection\n",
    "import plotly.plotly as py\n",
    "import plotly.graph_objs as go\n",
    "offline.init_notebook_mode(connected=True)"
   ]
  },
  {
   "cell_type": "code",
   "execution_count": 2,
   "metadata": {},
   "outputs": [],
   "source": [
    "def read_files(path, folder):\n",
    "    files = os.listdir(path+'/%s' % folder)    \n",
    "    \n",
    "    theme = []\n",
    "    for i in range(len(files)):\n",
    "        zfile = zipfile.ZipFile(path+'/{0}/{1}'.format(folder, files[i]))\n",
    "        for finfo in zfile.infolist():\n",
    "            ifile = zfile.open(finfo)\n",
    "            text = ifile.read()\n",
    "        theme.append(text)\n",
    "    return theme\n",
    "\n",
    "def generate_dataframe(path):\n",
    "    data = pd.DataFrame()\n",
    "    folder_files = os.listdir(path)\n",
    "    for folder in folder_files:\n",
    "        data = data.append(pd.DataFrame({'text': read_files(path, folder), 'target':folder}), ignore_index=True)\n",
    "    return data\n",
    "\n",
    "def del_word(df):\n",
    "    df['text'] = df['text'].apply(lambda x: [word for word in x if len(word) > 3])\n",
    "    df['text'] = df['text'].apply(lambda x: [word for word in x if not (word[0] and word[1] and word[2]) == word[0]])\n",
    "\n",
    "def stem_words(df):\n",
    "    stemmer = LancasterStemmer() \n",
    "    df['text'] = df['text'].apply(lambda x: [stemmer.stem(word) for word in x])\n",
    "\n",
    "def tokenize(df):\n",
    "    tokenizer = nltk.ToktokTokenizer()\n",
    "    df['text'] = df['text'].apply(lambda x: tokenizer.tokenize(x))\n",
    "\n",
    "def clean_text(text):\n",
    "    new_text = re.sub(r\"[^a-z ]\", \" \", text)\n",
    "    return new_text\n",
    "\n",
    "def delete_stop_words(df):\n",
    "    stop = stopwords.words('english')\n",
    "    df['text'] = df['text'].apply(lambda x: [word for word in x if word not in stop])\n",
    "    \n",
    "def preproc_text(df):\n",
    "    df['text'] = df['text'].apply(lambda x: clean_text(str(x).lower()))\n",
    "    tokenize(df)\n",
    "    delete_stop_words(df)\n",
    "    remove_non_ascii(df)\n",
    "    stem_words(df)\n",
    "    del_word(df)\n",
    "    \n",
    "def remove_non_ascii(df):\n",
    "    df['text'] = df['text'].apply(lambda x: [unicodedata.normalize('NFKD', word).encode('ascii', 'ignore').decode('utf-8', 'ignore') for word in x])"
   ]
  },
  {
   "cell_type": "code",
   "execution_count": 20,
   "metadata": {},
   "outputs": [],
   "source": [
    "data = generate_dataframe('data')\n",
    "preproc_text(data)\n",
    "data = data.sample(frac=1).reset_index(drop=True)"
   ]
  },
  {
   "cell_type": "code",
   "execution_count": 22,
   "metadata": {},
   "outputs": [],
   "source": [
    "def to_dataframe_confussion_matrix(confussion_matrix, names):\n",
    "    \"\"\"Function to visualizate confussion_matrix\"\"\"\n",
    "    \n",
    "    actual = lambda: ['Actual ' + i for i in names]\n",
    "    predicted = lambda: ['Predicted ' + i for i in names]\n",
    "    \n",
    "    df = pd.DataFrame(confussion_matrix, index=predicted(), columns=actual())\n",
    "    \n",
    "    return df"
   ]
  },
  {
   "cell_type": "code",
   "execution_count": 23,
   "metadata": {},
   "outputs": [],
   "source": [
    "def PRA(precision, recall, f1, accuracity, names):\n",
    "    \"\"\"Function to visualizate metrics\"\"\"\n",
    "    \n",
    "    name_class = lambda: [i for i in names]\n",
    "    \n",
    "    df_1 = pd.DataFrame(precision, index=name_class(), columns=['Precision'])\n",
    "    df_2 = pd.DataFrame(recall, index=name_class(), columns=['Recall'])\n",
    "    df_3 = pd.DataFrame(f1, index=name_class(), columns=['F1'])\n",
    "    df_4 = pd.DataFrame(accuracity, index=[names[0]], columns=['Accuracity'])\n",
    "    df = pd.concat((df_1, df_2, df_3, df_4), axis=1, sort=False)\n",
    "    \n",
    "    df.fillna('', inplace=True)\n",
    "    return df"
   ]
  },
  {
   "cell_type": "code",
   "execution_count": 24,
   "metadata": {},
   "outputs": [],
   "source": [
    "class NaiveBayes():\n",
    "    def __init__(self):\n",
    "        pass\n",
    "    \n",
    "    def get_word_counts(self, X_slice):\n",
    "            word_counts = {}\n",
    "            count_of_words = 0\n",
    "\n",
    "            for row in X_slice:\n",
    "                for word in row:\n",
    "                    word_counts[word] = word_counts.get(word, 0.0) + 1.0\n",
    "                count_of_words += len(row)\n",
    "                self.global_vocabluary.update(set(row))\n",
    "\n",
    "            return word_counts, count_of_words\n",
    "\n",
    "        \n",
    "    def fit(self, X, y):\n",
    "        unique_classes = np.unique(y)\n",
    "        self.prob_of_each_class = {c: np.log(list(y).count(c)/y.shape[0]) for c in unique_classes}\n",
    "        self.count_of_each_class = {c: list(y).count(c) for c in unique_classes}\n",
    "        \n",
    "        self.global_vocabluary = set()\n",
    "        self.vocabluary = {class_: dict() for class_ in unique_classes}\n",
    "        \n",
    "        for c in unique_classes:\n",
    "            X_slice = X[y == c]\n",
    "            self.vocabluary[c]['voc_words'], self.vocabluary[c]['length'] = self.get_word_counts(X_slice)\n",
    "\n",
    "        \n",
    "    def predict(self, X):\n",
    "        result = []\n",
    "        for row in X:\n",
    "            predicted = {}\n",
    "\n",
    "            for class_ in self.count_of_each_class.keys():\n",
    "                conjuction = []\n",
    "                for word in row:\n",
    "                    k = np.log(((self.vocabluary[class_]['voc_words'].get(word, 0) + 1)) / \\\n",
    "                                  (self.vocabluary[class_]['length'] + len(self.global_vocabluary)))\n",
    "                    conjuction.append(k)\n",
    "            \n",
    "                predicted[class_] = sum(conjuction) + self.prob_of_each_class[class_]\n",
    "            result.append(predicted)  \n",
    "        return self.to_probability(result)\n",
    "    \n",
    "    \n",
    "    def to_probability(self, result):\n",
    "        \"\"\"Transfrom from log to probability\"\"\"\n",
    "        \n",
    "        result_probability = []\n",
    "        \n",
    "        for row in result:\n",
    "            temp = {}\n",
    "            \n",
    "            for class_ in row.keys():\n",
    "                temp_y = row.copy()\n",
    "                del temp_y[class_]\n",
    "                denominator = [np.exp(row[i] - row[class_]) for i in temp_y]\n",
    "                temp[class_] = 1 / (1 + sum(denominator))\n",
    "            result_probability.append(temp)\n",
    "            \n",
    "        return result_probability"
   ]
  },
  {
   "cell_type": "code",
   "execution_count": 25,
   "metadata": {},
   "outputs": [],
   "source": [
    "X = data['text']\n",
    "y = data['target']"
   ]
  },
  {
   "cell_type": "code",
   "execution_count": 27,
   "metadata": {},
   "outputs": [
    {
     "data": {
      "application/vnd.plotly.v1+json": {
       "config": {
        "linkText": "Export to plot.ly",
        "plotlyServerURL": "https://plot.ly",
        "showLink": true
       },
       "data": [
        {
         "type": "bar",
         "uid": "10c19de3-7cb4-4cfd-bf91-0f3c5d4b15e1",
         "x": [
          "DRAMA",
          "EROTIC",
          "SONGS",
          "TEACHER",
          "RELIGION"
         ],
         "y": [
          70,
          35,
          21,
          20,
          4
         ]
        }
       ],
       "layout": {
        "title": "Plot Title",
        "yaxis": {
         "title": "Number of classes",
         "titlefont": {
          "color": "#7f7f7f",
          "family": "Courier New, monospace",
          "size": 18
         }
        }
       }
      },
      "text/html": [
       "<div id=\"69a0cd81-db61-4e05-a519-4b9bf09bc6e4\" style=\"height: 525px; width: 100%;\" class=\"plotly-graph-div\"></div><script type=\"text/javascript\">require([\"plotly\"], function(Plotly) { window.PLOTLYENV=window.PLOTLYENV || {};window.PLOTLYENV.BASE_URL=\"https://plot.ly\";Plotly.newPlot(\"69a0cd81-db61-4e05-a519-4b9bf09bc6e4\", [{\"y\": [70, 35, 21, 20, 4], \"type\": \"bar\", \"uid\": \"10c19de3-7cb4-4cfd-bf91-0f3c5d4b15e1\", \"x\": [\"DRAMA\", \"EROTIC\", \"SONGS\", \"TEACHER\", \"RELIGION\"]}], {\"yaxis\": {\"titlefont\": {\"color\": \"#7f7f7f\", \"family\": \"Courier New, monospace\", \"size\": 18}, \"title\": \"Number of classes\"}, \"title\": \"Plot Title\"}, {\"plotlyServerURL\": \"https://plot.ly\", \"showLink\": true, \"linkText\": \"Export to plot.ly\"})});</script><script type=\"text/javascript\">window.addEventListener(\"resize\", function(){window._Plotly.Plots.resize(document.getElementById(\"69a0cd81-db61-4e05-a519-4b9bf09bc6e4\"));});</script>"
      ],
      "text/vnd.plotly.v1+html": [
       "<div id=\"69a0cd81-db61-4e05-a519-4b9bf09bc6e4\" style=\"height: 525px; width: 100%;\" class=\"plotly-graph-div\"></div><script type=\"text/javascript\">require([\"plotly\"], function(Plotly) { window.PLOTLYENV=window.PLOTLYENV || {};window.PLOTLYENV.BASE_URL=\"https://plot.ly\";Plotly.newPlot(\"69a0cd81-db61-4e05-a519-4b9bf09bc6e4\", [{\"y\": [70, 35, 21, 20, 4], \"type\": \"bar\", \"uid\": \"10c19de3-7cb4-4cfd-bf91-0f3c5d4b15e1\", \"x\": [\"DRAMA\", \"EROTIC\", \"SONGS\", \"TEACHER\", \"RELIGION\"]}], {\"yaxis\": {\"titlefont\": {\"color\": \"#7f7f7f\", \"family\": \"Courier New, monospace\", \"size\": 18}, \"title\": \"Number of classes\"}, \"title\": \"Plot Title\"}, {\"plotlyServerURL\": \"https://plot.ly\", \"showLink\": true, \"linkText\": \"Export to plot.ly\"})});</script><script type=\"text/javascript\">window.addEventListener(\"resize\", function(){window._Plotly.Plots.resize(document.getElementById(\"69a0cd81-db61-4e05-a519-4b9bf09bc6e4\"));});</script>"
      ]
     },
     "metadata": {},
     "output_type": "display_data"
    }
   ],
   "source": [
    "distribution = y.value_counts()\n",
    "picture = [go.Bar(\n",
    "            x=distribution.index,\n",
    "            y=distribution\n",
    "    )]\n",
    "layout = go.Layout(\n",
    "    title='Plot Title',\n",
    "    yaxis=dict(\n",
    "        title='Number of classes',\n",
    "        titlefont=dict(\n",
    "            family='Courier New, monospace',\n",
    "            size=18,\n",
    "            color='#7f7f7f'\n",
    "        )\n",
    "    )\n",
    ")\n",
    "fig = go.Figure(data=picture, layout=layout)\n",
    "offline.iplot(fig)"
   ]
  },
  {
   "cell_type": "markdown",
   "metadata": {},
   "source": [
    "As we see my data is imbalanced. So i need to use Stratified cross_validation for correct metrics"
   ]
  },
  {
   "cell_type": "code",
   "execution_count": 73,
   "metadata": {},
   "outputs": [],
   "source": [
    "hot_class = {class_:i for i, class_ in enumerate(np.unique(data['target'].values))}\n",
    "yy = y.replace(hot_class)"
   ]
  },
  {
   "cell_type": "code",
   "execution_count": 74,
   "metadata": {},
   "outputs": [],
   "source": [
    "def train_test_split(X, y, test_size, random_state=42, shuffle=False):\n",
    "    test_indexes, train_indexes = [], []\n",
    "    np.random.seed(random_state)\n",
    "    for class_ in np.unique(y):    \n",
    "        N = y[y == class_].value_counts().values[0]\n",
    "        part = int(round(N * test_size))\n",
    "\n",
    "        full_indexes = np.array(y[y == class_].index)\n",
    "        low = full_indexes.min()\n",
    "        high = full_indexes.max()\n",
    "        \n",
    "        temp = np.random.randint(low, high, part)\n",
    "        test_indexes.extend(temp)\n",
    "\n",
    "        temp = np.delete(full_indexes, test_indexes)\n",
    "        train_indexes.extend(temp)\n",
    "        \n",
    "    if shuffle is True:\n",
    "        np.random.shuffle(train_indexes)\n",
    "        np.random.shuffle(test_indexes)\n",
    "        \n",
    "    X_train = X.iloc[train_indexes]\n",
    "    y_train = y.iloc[train_indexes]\n",
    "    X_test = X.iloc[test_indexes]\n",
    "    y_test = y.iloc[test_indexes]\n",
    "    return X_train, X_test, y_train, y_test"
   ]
  },
  {
   "cell_type": "code",
   "execution_count": 75,
   "metadata": {},
   "outputs": [
    {
     "name": "stderr",
     "output_type": "stream",
     "text": [
      "/home/nikolay/anaconda3/lib/python3.5/site-packages/ipykernel_launcher.py:15: DeprecationWarning:\n",
      "\n",
      "in the future out of bounds indices will raise an error instead of being ignored by `numpy.delete`.\n",
      "\n"
     ]
    }
   ],
   "source": [
    "X_train, X_test, y_train, y_test = train_test_split(X, yy, test_size=0.3, random_state=15, shuffle=True)"
   ]
  },
  {
   "cell_type": "markdown",
   "metadata": {},
   "source": [
    "When we use simple train test split we can't we sure if our data in equal proportotion. Such problem can cause wrong value of our metrics.\n",
    "I use StratifiedKFold because we need correct percentage of samples of each target class."
   ]
  },
  {
   "cell_type": "code",
   "execution_count": 76,
   "metadata": {},
   "outputs": [],
   "source": [
    "def get_report(y_true, y_predicted):\n",
    "    \"\"\"Calcucate metrics such as: Precision, recall, f1 and accuracy\"\"\"\n",
    "    \n",
    "    N = len(list(y_predicted[0].keys()))\n",
    "    confusion_matrix = np.zeros((N, N), dtype=int)\n",
    "    \n",
    "    for index in range(y_true.shape[0]):\n",
    "        confusion_matrix[np.argmax(list(y_predicted[index].values()))][y_true[index]] += 1\n",
    "        \n",
    "    recall = np.array([confusion_matrix[i,i]/sum(confusion_matrix[:,i]) for i in range(N)])\n",
    "    precision = np.array([confusion_matrix[i,i]/sum(confusion_matrix[i, :]) for i in range(N)])\n",
    "    f1 = 2 * precision * recall / (precision + recall)\n",
    "    \n",
    "    correct_answers = 0\n",
    "    for i in range(len(y_predicted)):\n",
    "        if list(y_predicted[i].keys())[np.argmax(np.array(list(y_predicted[i].values())))] == y_true[i]:\n",
    "            correct_answers += 1\n",
    "    \n",
    "    return confusion_matrix, precision, recall, f1, correct_answers/y_true.shape[0]"
   ]
  },
  {
   "cell_type": "code",
   "execution_count": 77,
   "metadata": {},
   "outputs": [],
   "source": [
    "def get_data_for_plot(metric, name, classes):\n",
    "    data = [go.Bar(\n",
    "        x= classes,\n",
    "        y= metric[split],\n",
    "        text= metric[split],\n",
    "        textposition = 'auto',\n",
    "        name = 'split {}'.format(1+split),\n",
    "        marker=dict(\n",
    "            line=dict(\n",
    "                color='rgb(8,48,107)',\n",
    "                width=1.5),\n",
    "            ),\n",
    "        opacity=0.6\n",
    "    ) for split in range(len(metric))]\n",
    "\n",
    "    std = np.std(np.array(metric).flatten())\n",
    "    layout = go.Layout(\n",
    "        title='{0}.Standard deviation = {1}'.format(name, std)\n",
    "        )\n",
    "    fig = go.Figure(data=data, layout=layout)\n",
    "    \n",
    "    return fig"
   ]
  },
  {
   "cell_type": "code",
   "execution_count": 78,
   "metadata": {},
   "outputs": [
    {
     "name": "stderr",
     "output_type": "stream",
     "text": [
      "/home/nikolay/anaconda3/lib/python3.5/site-packages/ipykernel_launcher.py:58: RuntimeWarning:\n",
      "\n",
      "overflow encountered in exp\n",
      "\n"
     ]
    }
   ],
   "source": [
    "cross_valid = model_selection.StratifiedKFold(n_splits=3, random_state=5)\n",
    "result = []\n",
    "for train_index, test_index in cross_valid.split(X, y):\n",
    "    X_train, X_test = X[train_index], X[test_index]\n",
    "    y_train, y_test = yy[train_index], yy[test_index]\n",
    "    naive = NaiveBayes()\n",
    "    naive.fit(X_train.values, y_train.values)\n",
    "    predicted = naive.predict(X_test.values)\n",
    "    result.append(get_report(y_test.values, predicted))"
   ]
  },
  {
   "cell_type": "code",
   "execution_count": 79,
   "metadata": {},
   "outputs": [
    {
     "data": {
      "text/html": [
       "<div>\n",
       "<style scoped>\n",
       "    .dataframe tbody tr th:only-of-type {\n",
       "        vertical-align: middle;\n",
       "    }\n",
       "\n",
       "    .dataframe tbody tr th {\n",
       "        vertical-align: top;\n",
       "    }\n",
       "\n",
       "    .dataframe thead th {\n",
       "        text-align: right;\n",
       "    }\n",
       "</style>\n",
       "<table border=\"1\" class=\"dataframe\">\n",
       "  <thead>\n",
       "    <tr style=\"text-align: right;\">\n",
       "      <th></th>\n",
       "      <th>Actual DRAMA</th>\n",
       "      <th>Actual EROTIC</th>\n",
       "      <th>Actual RELIGION</th>\n",
       "      <th>Actual SONGS</th>\n",
       "      <th>Actual TEACHER</th>\n",
       "    </tr>\n",
       "  </thead>\n",
       "  <tbody>\n",
       "    <tr>\n",
       "      <th>Predicted DRAMA</th>\n",
       "      <td>23</td>\n",
       "      <td>2</td>\n",
       "      <td>1</td>\n",
       "      <td>1</td>\n",
       "      <td>0</td>\n",
       "    </tr>\n",
       "    <tr>\n",
       "      <th>Predicted EROTIC</th>\n",
       "      <td>0</td>\n",
       "      <td>10</td>\n",
       "      <td>0</td>\n",
       "      <td>0</td>\n",
       "      <td>0</td>\n",
       "    </tr>\n",
       "    <tr>\n",
       "      <th>Predicted RELIGION</th>\n",
       "      <td>0</td>\n",
       "      <td>0</td>\n",
       "      <td>1</td>\n",
       "      <td>0</td>\n",
       "      <td>0</td>\n",
       "    </tr>\n",
       "    <tr>\n",
       "      <th>Predicted SONGS</th>\n",
       "      <td>0</td>\n",
       "      <td>0</td>\n",
       "      <td>0</td>\n",
       "      <td>6</td>\n",
       "      <td>0</td>\n",
       "    </tr>\n",
       "    <tr>\n",
       "      <th>Predicted TEACHER</th>\n",
       "      <td>1</td>\n",
       "      <td>0</td>\n",
       "      <td>0</td>\n",
       "      <td>0</td>\n",
       "      <td>7</td>\n",
       "    </tr>\n",
       "  </tbody>\n",
       "</table>\n",
       "</div>"
      ],
      "text/plain": [
       "                    Actual DRAMA  Actual EROTIC  Actual RELIGION  \\\n",
       "Predicted DRAMA               23              2                1   \n",
       "Predicted EROTIC               0             10                0   \n",
       "Predicted RELIGION             0              0                1   \n",
       "Predicted SONGS                0              0                0   \n",
       "Predicted TEACHER              1              0                0   \n",
       "\n",
       "                    Actual SONGS  Actual TEACHER  \n",
       "Predicted DRAMA                1               0  \n",
       "Predicted EROTIC               0               0  \n",
       "Predicted RELIGION             0               0  \n",
       "Predicted SONGS                6               0  \n",
       "Predicted TEACHER              0               7  "
      ]
     },
     "execution_count": 79,
     "metadata": {},
     "output_type": "execute_result"
    }
   ],
   "source": [
    "to_dataframe_confussion_matrix(result[0][0],np.unique(data['target'].values))"
   ]
  },
  {
   "cell_type": "code",
   "execution_count": 80,
   "metadata": {},
   "outputs": [
    {
     "data": {
      "text/html": [
       "<div>\n",
       "<style scoped>\n",
       "    .dataframe tbody tr th:only-of-type {\n",
       "        vertical-align: middle;\n",
       "    }\n",
       "\n",
       "    .dataframe tbody tr th {\n",
       "        vertical-align: top;\n",
       "    }\n",
       "\n",
       "    .dataframe thead th {\n",
       "        text-align: right;\n",
       "    }\n",
       "</style>\n",
       "<table border=\"1\" class=\"dataframe\">\n",
       "  <thead>\n",
       "    <tr style=\"text-align: right;\">\n",
       "      <th></th>\n",
       "      <th>Actual DRAMA</th>\n",
       "      <th>Actual EROTIC</th>\n",
       "      <th>Actual RELIGION</th>\n",
       "      <th>Actual SONGS</th>\n",
       "      <th>Actual TEACHER</th>\n",
       "    </tr>\n",
       "  </thead>\n",
       "  <tbody>\n",
       "    <tr>\n",
       "      <th>Predicted DRAMA</th>\n",
       "      <td>23</td>\n",
       "      <td>0</td>\n",
       "      <td>0</td>\n",
       "      <td>1</td>\n",
       "      <td>2</td>\n",
       "    </tr>\n",
       "    <tr>\n",
       "      <th>Predicted EROTIC</th>\n",
       "      <td>0</td>\n",
       "      <td>11</td>\n",
       "      <td>0</td>\n",
       "      <td>0</td>\n",
       "      <td>0</td>\n",
       "    </tr>\n",
       "    <tr>\n",
       "      <th>Predicted RELIGION</th>\n",
       "      <td>0</td>\n",
       "      <td>0</td>\n",
       "      <td>1</td>\n",
       "      <td>0</td>\n",
       "      <td>0</td>\n",
       "    </tr>\n",
       "    <tr>\n",
       "      <th>Predicted SONGS</th>\n",
       "      <td>0</td>\n",
       "      <td>1</td>\n",
       "      <td>0</td>\n",
       "      <td>6</td>\n",
       "      <td>0</td>\n",
       "    </tr>\n",
       "    <tr>\n",
       "      <th>Predicted TEACHER</th>\n",
       "      <td>0</td>\n",
       "      <td>0</td>\n",
       "      <td>0</td>\n",
       "      <td>0</td>\n",
       "      <td>5</td>\n",
       "    </tr>\n",
       "  </tbody>\n",
       "</table>\n",
       "</div>"
      ],
      "text/plain": [
       "                    Actual DRAMA  Actual EROTIC  Actual RELIGION  \\\n",
       "Predicted DRAMA               23              0                0   \n",
       "Predicted EROTIC               0             11                0   \n",
       "Predicted RELIGION             0              0                1   \n",
       "Predicted SONGS                0              1                0   \n",
       "Predicted TEACHER              0              0                0   \n",
       "\n",
       "                    Actual SONGS  Actual TEACHER  \n",
       "Predicted DRAMA                1               2  \n",
       "Predicted EROTIC               0               0  \n",
       "Predicted RELIGION             0               0  \n",
       "Predicted SONGS                6               0  \n",
       "Predicted TEACHER              0               5  "
      ]
     },
     "execution_count": 80,
     "metadata": {},
     "output_type": "execute_result"
    }
   ],
   "source": [
    "to_dataframe_confussion_matrix(result[1][0],np.unique(data['target'].values))"
   ]
  },
  {
   "cell_type": "code",
   "execution_count": 81,
   "metadata": {},
   "outputs": [
    {
     "data": {
      "text/html": [
       "<div>\n",
       "<style scoped>\n",
       "    .dataframe tbody tr th:only-of-type {\n",
       "        vertical-align: middle;\n",
       "    }\n",
       "\n",
       "    .dataframe tbody tr th {\n",
       "        vertical-align: top;\n",
       "    }\n",
       "\n",
       "    .dataframe thead th {\n",
       "        text-align: right;\n",
       "    }\n",
       "</style>\n",
       "<table border=\"1\" class=\"dataframe\">\n",
       "  <thead>\n",
       "    <tr style=\"text-align: right;\">\n",
       "      <th></th>\n",
       "      <th>Actual DRAMA</th>\n",
       "      <th>Actual EROTIC</th>\n",
       "      <th>Actual RELIGION</th>\n",
       "      <th>Actual SONGS</th>\n",
       "      <th>Actual TEACHER</th>\n",
       "    </tr>\n",
       "  </thead>\n",
       "  <tbody>\n",
       "    <tr>\n",
       "      <th>Predicted DRAMA</th>\n",
       "      <td>22</td>\n",
       "      <td>1</td>\n",
       "      <td>0</td>\n",
       "      <td>0</td>\n",
       "      <td>1</td>\n",
       "    </tr>\n",
       "    <tr>\n",
       "      <th>Predicted EROTIC</th>\n",
       "      <td>0</td>\n",
       "      <td>10</td>\n",
       "      <td>0</td>\n",
       "      <td>0</td>\n",
       "      <td>0</td>\n",
       "    </tr>\n",
       "    <tr>\n",
       "      <th>Predicted RELIGION</th>\n",
       "      <td>0</td>\n",
       "      <td>0</td>\n",
       "      <td>1</td>\n",
       "      <td>0</td>\n",
       "      <td>0</td>\n",
       "    </tr>\n",
       "    <tr>\n",
       "      <th>Predicted SONGS</th>\n",
       "      <td>1</td>\n",
       "      <td>0</td>\n",
       "      <td>0</td>\n",
       "      <td>7</td>\n",
       "      <td>0</td>\n",
       "    </tr>\n",
       "    <tr>\n",
       "      <th>Predicted TEACHER</th>\n",
       "      <td>0</td>\n",
       "      <td>0</td>\n",
       "      <td>0</td>\n",
       "      <td>0</td>\n",
       "      <td>5</td>\n",
       "    </tr>\n",
       "  </tbody>\n",
       "</table>\n",
       "</div>"
      ],
      "text/plain": [
       "                    Actual DRAMA  Actual EROTIC  Actual RELIGION  \\\n",
       "Predicted DRAMA               22              1                0   \n",
       "Predicted EROTIC               0             10                0   \n",
       "Predicted RELIGION             0              0                1   \n",
       "Predicted SONGS                1              0                0   \n",
       "Predicted TEACHER              0              0                0   \n",
       "\n",
       "                    Actual SONGS  Actual TEACHER  \n",
       "Predicted DRAMA                0               1  \n",
       "Predicted EROTIC               0               0  \n",
       "Predicted RELIGION             0               0  \n",
       "Predicted SONGS                7               0  \n",
       "Predicted TEACHER              0               5  "
      ]
     },
     "execution_count": 81,
     "metadata": {},
     "output_type": "execute_result"
    }
   ],
   "source": [
    "to_dataframe_confussion_matrix(result[2][0],np.unique(data['target'].values))"
   ]
  },
  {
   "cell_type": "code",
   "execution_count": 82,
   "metadata": {},
   "outputs": [],
   "source": [
    "classes = np.unique(y.values)\n",
    "f1, recall, precision = [], [], []\n",
    "for report in result:\n",
    "    precision.append(report[1])\n",
    "    recall.append(report[2])\n",
    "    f1.append(report[3])"
   ]
  },
  {
   "cell_type": "code",
   "execution_count": 83,
   "metadata": {},
   "outputs": [
    {
     "data": {
      "application/vnd.plotly.v1+json": {
       "config": {
        "linkText": "Export to plot.ly",
        "plotlyServerURL": "https://plot.ly",
        "showLink": true
       },
       "data": [
        {
         "marker": {
          "line": {
           "color": "rgb(8,48,107)",
           "width": 1.5
          }
         },
         "name": "split 1",
         "opacity": 0.6,
         "text": [
          0.8518518518518519,
          1,
          1,
          1,
          0.875
         ],
         "textposition": "auto",
         "type": "bar",
         "uid": "9512f98a-4e49-431d-b169-7b2a15c72e87",
         "x": [
          "DRAMA",
          "EROTIC",
          "RELIGION",
          "SONGS",
          "TEACHER"
         ],
         "y": [
          0.8518518518518519,
          1,
          1,
          1,
          0.875
         ]
        },
        {
         "marker": {
          "line": {
           "color": "rgb(8,48,107)",
           "width": 1.5
          }
         },
         "name": "split 2",
         "opacity": 0.6,
         "text": [
          0.8846153846153846,
          1,
          1,
          0.8571428571428571,
          1
         ],
         "textposition": "auto",
         "type": "bar",
         "uid": "be825c22-4222-4141-8d53-917165ed13ae",
         "x": [
          "DRAMA",
          "EROTIC",
          "RELIGION",
          "SONGS",
          "TEACHER"
         ],
         "y": [
          0.8846153846153846,
          1,
          1,
          0.8571428571428571,
          1
         ]
        },
        {
         "marker": {
          "line": {
           "color": "rgb(8,48,107)",
           "width": 1.5
          }
         },
         "name": "split 3",
         "opacity": 0.6,
         "text": [
          0.9166666666666666,
          1,
          1,
          0.875,
          1
         ],
         "textposition": "auto",
         "type": "bar",
         "uid": "e5a07a4f-d694-4c4d-a689-2e0698cddd50",
         "x": [
          "DRAMA",
          "EROTIC",
          "RELIGION",
          "SONGS",
          "TEACHER"
         ],
         "y": [
          0.9166666666666666,
          1,
          1,
          0.875,
          1
         ]
        }
       ],
       "layout": {
        "title": "Precision.Standard deviation = 0.06185182628283077"
       }
      },
      "text/html": [
       "<div id=\"2c601f9f-5ce4-4380-a95c-974d709b0ff2\" style=\"height: 525px; width: 100%;\" class=\"plotly-graph-div\"></div><script type=\"text/javascript\">require([\"plotly\"], function(Plotly) { window.PLOTLYENV=window.PLOTLYENV || {};window.PLOTLYENV.BASE_URL=\"https://plot.ly\";Plotly.newPlot(\"2c601f9f-5ce4-4380-a95c-974d709b0ff2\", [{\"textposition\": \"auto\", \"name\": \"split 1\", \"type\": \"bar\", \"y\": [0.8518518518518519, 1.0, 1.0, 1.0, 0.875], \"marker\": {\"line\": {\"color\": \"rgb(8,48,107)\", \"width\": 1.5}}, \"text\": [0.8518518518518519, 1.0, 1.0, 1.0, 0.875], \"opacity\": 0.6, \"uid\": \"9512f98a-4e49-431d-b169-7b2a15c72e87\", \"x\": [\"DRAMA\", \"EROTIC\", \"RELIGION\", \"SONGS\", \"TEACHER\"]}, {\"textposition\": \"auto\", \"name\": \"split 2\", \"type\": \"bar\", \"y\": [0.8846153846153846, 1.0, 1.0, 0.8571428571428571, 1.0], \"marker\": {\"line\": {\"color\": \"rgb(8,48,107)\", \"width\": 1.5}}, \"text\": [0.8846153846153846, 1.0, 1.0, 0.8571428571428571, 1.0], \"opacity\": 0.6, \"uid\": \"be825c22-4222-4141-8d53-917165ed13ae\", \"x\": [\"DRAMA\", \"EROTIC\", \"RELIGION\", \"SONGS\", \"TEACHER\"]}, {\"textposition\": \"auto\", \"name\": \"split 3\", \"type\": \"bar\", \"y\": [0.9166666666666666, 1.0, 1.0, 0.875, 1.0], \"marker\": {\"line\": {\"color\": \"rgb(8,48,107)\", \"width\": 1.5}}, \"text\": [0.9166666666666666, 1.0, 1.0, 0.875, 1.0], \"opacity\": 0.6, \"uid\": \"e5a07a4f-d694-4c4d-a689-2e0698cddd50\", \"x\": [\"DRAMA\", \"EROTIC\", \"RELIGION\", \"SONGS\", \"TEACHER\"]}], {\"title\": \"Precision.Standard deviation = 0.06185182628283077\"}, {\"plotlyServerURL\": \"https://plot.ly\", \"showLink\": true, \"linkText\": \"Export to plot.ly\"})});</script><script type=\"text/javascript\">window.addEventListener(\"resize\", function(){window._Plotly.Plots.resize(document.getElementById(\"2c601f9f-5ce4-4380-a95c-974d709b0ff2\"));});</script>"
      ],
      "text/vnd.plotly.v1+html": [
       "<div id=\"2c601f9f-5ce4-4380-a95c-974d709b0ff2\" style=\"height: 525px; width: 100%;\" class=\"plotly-graph-div\"></div><script type=\"text/javascript\">require([\"plotly\"], function(Plotly) { window.PLOTLYENV=window.PLOTLYENV || {};window.PLOTLYENV.BASE_URL=\"https://plot.ly\";Plotly.newPlot(\"2c601f9f-5ce4-4380-a95c-974d709b0ff2\", [{\"textposition\": \"auto\", \"name\": \"split 1\", \"type\": \"bar\", \"y\": [0.8518518518518519, 1.0, 1.0, 1.0, 0.875], \"marker\": {\"line\": {\"color\": \"rgb(8,48,107)\", \"width\": 1.5}}, \"text\": [0.8518518518518519, 1.0, 1.0, 1.0, 0.875], \"opacity\": 0.6, \"uid\": \"9512f98a-4e49-431d-b169-7b2a15c72e87\", \"x\": [\"DRAMA\", \"EROTIC\", \"RELIGION\", \"SONGS\", \"TEACHER\"]}, {\"textposition\": \"auto\", \"name\": \"split 2\", \"type\": \"bar\", \"y\": [0.8846153846153846, 1.0, 1.0, 0.8571428571428571, 1.0], \"marker\": {\"line\": {\"color\": \"rgb(8,48,107)\", \"width\": 1.5}}, \"text\": [0.8846153846153846, 1.0, 1.0, 0.8571428571428571, 1.0], \"opacity\": 0.6, \"uid\": \"be825c22-4222-4141-8d53-917165ed13ae\", \"x\": [\"DRAMA\", \"EROTIC\", \"RELIGION\", \"SONGS\", \"TEACHER\"]}, {\"textposition\": \"auto\", \"name\": \"split 3\", \"type\": \"bar\", \"y\": [0.9166666666666666, 1.0, 1.0, 0.875, 1.0], \"marker\": {\"line\": {\"color\": \"rgb(8,48,107)\", \"width\": 1.5}}, \"text\": [0.9166666666666666, 1.0, 1.0, 0.875, 1.0], \"opacity\": 0.6, \"uid\": \"e5a07a4f-d694-4c4d-a689-2e0698cddd50\", \"x\": [\"DRAMA\", \"EROTIC\", \"RELIGION\", \"SONGS\", \"TEACHER\"]}], {\"title\": \"Precision.Standard deviation = 0.06185182628283077\"}, {\"plotlyServerURL\": \"https://plot.ly\", \"showLink\": true, \"linkText\": \"Export to plot.ly\"})});</script><script type=\"text/javascript\">window.addEventListener(\"resize\", function(){window._Plotly.Plots.resize(document.getElementById(\"2c601f9f-5ce4-4380-a95c-974d709b0ff2\"));});</script>"
      ]
     },
     "metadata": {},
     "output_type": "display_data"
    }
   ],
   "source": [
    "offline.iplot(get_data_for_plot(precision, 'Precision', classes))"
   ]
  },
  {
   "cell_type": "markdown",
   "metadata": {},
   "source": [
    "Low precision means the following:\n",
    "This is the destiny of objects which really belong to classN relative to all objects which model predict as classN.\n",
    "It happened because model has learning objects.(Look at picture 'Distribution of classes')"
   ]
  },
  {
   "cell_type": "code",
   "execution_count": 84,
   "metadata": {},
   "outputs": [
    {
     "data": {
      "application/vnd.plotly.v1+json": {
       "config": {
        "linkText": "Export to plot.ly",
        "plotlyServerURL": "https://plot.ly",
        "showLink": true
       },
       "data": [
        {
         "marker": {
          "line": {
           "color": "rgb(8,48,107)",
           "width": 1.5
          }
         },
         "name": "split 1",
         "opacity": 0.6,
         "text": [
          0.9583333333333334,
          0.8333333333333334,
          0.5,
          0.8571428571428571,
          1
         ],
         "textposition": "auto",
         "type": "bar",
         "uid": "010796e3-430b-4f48-a63e-a47b9ddff588",
         "x": [
          "DRAMA",
          "EROTIC",
          "RELIGION",
          "SONGS",
          "TEACHER"
         ],
         "y": [
          0.9583333333333334,
          0.8333333333333334,
          0.5,
          0.8571428571428571,
          1
         ]
        },
        {
         "marker": {
          "line": {
           "color": "rgb(8,48,107)",
           "width": 1.5
          }
         },
         "name": "split 2",
         "opacity": 0.6,
         "text": [
          1,
          0.9166666666666666,
          1,
          0.8571428571428571,
          0.7142857142857143
         ],
         "textposition": "auto",
         "type": "bar",
         "uid": "3998a189-5e68-488d-b635-d92b3612fd96",
         "x": [
          "DRAMA",
          "EROTIC",
          "RELIGION",
          "SONGS",
          "TEACHER"
         ],
         "y": [
          1,
          0.9166666666666666,
          1,
          0.8571428571428571,
          0.7142857142857143
         ]
        },
        {
         "marker": {
          "line": {
           "color": "rgb(8,48,107)",
           "width": 1.5
          }
         },
         "name": "split 3",
         "opacity": 0.6,
         "text": [
          0.9565217391304348,
          0.9090909090909091,
          1,
          1,
          0.8333333333333334
         ],
         "textposition": "auto",
         "type": "bar",
         "uid": "f86bb7a0-399d-496d-9a48-e168cb734571",
         "x": [
          "DRAMA",
          "EROTIC",
          "RELIGION",
          "SONGS",
          "TEACHER"
         ],
         "y": [
          0.9565217391304348,
          0.9090909090909091,
          1,
          1,
          0.8333333333333334
         ]
        }
       ],
       "layout": {
        "title": "Recall.Standard deviation = 0.13221541248486385"
       }
      },
      "text/html": [
       "<div id=\"b749793f-4489-4581-b266-bae809c0e5d5\" style=\"height: 525px; width: 100%;\" class=\"plotly-graph-div\"></div><script type=\"text/javascript\">require([\"plotly\"], function(Plotly) { window.PLOTLYENV=window.PLOTLYENV || {};window.PLOTLYENV.BASE_URL=\"https://plot.ly\";Plotly.newPlot(\"b749793f-4489-4581-b266-bae809c0e5d5\", [{\"textposition\": \"auto\", \"name\": \"split 1\", \"type\": \"bar\", \"y\": [0.9583333333333334, 0.8333333333333334, 0.5, 0.8571428571428571, 1.0], \"marker\": {\"line\": {\"color\": \"rgb(8,48,107)\", \"width\": 1.5}}, \"text\": [0.9583333333333334, 0.8333333333333334, 0.5, 0.8571428571428571, 1.0], \"opacity\": 0.6, \"uid\": \"010796e3-430b-4f48-a63e-a47b9ddff588\", \"x\": [\"DRAMA\", \"EROTIC\", \"RELIGION\", \"SONGS\", \"TEACHER\"]}, {\"textposition\": \"auto\", \"name\": \"split 2\", \"type\": \"bar\", \"y\": [1.0, 0.9166666666666666, 1.0, 0.8571428571428571, 0.7142857142857143], \"marker\": {\"line\": {\"color\": \"rgb(8,48,107)\", \"width\": 1.5}}, \"text\": [1.0, 0.9166666666666666, 1.0, 0.8571428571428571, 0.7142857142857143], \"opacity\": 0.6, \"uid\": \"3998a189-5e68-488d-b635-d92b3612fd96\", \"x\": [\"DRAMA\", \"EROTIC\", \"RELIGION\", \"SONGS\", \"TEACHER\"]}, {\"textposition\": \"auto\", \"name\": \"split 3\", \"type\": \"bar\", \"y\": [0.9565217391304348, 0.9090909090909091, 1.0, 1.0, 0.8333333333333334], \"marker\": {\"line\": {\"color\": \"rgb(8,48,107)\", \"width\": 1.5}}, \"text\": [0.9565217391304348, 0.9090909090909091, 1.0, 1.0, 0.8333333333333334], \"opacity\": 0.6, \"uid\": \"f86bb7a0-399d-496d-9a48-e168cb734571\", \"x\": [\"DRAMA\", \"EROTIC\", \"RELIGION\", \"SONGS\", \"TEACHER\"]}], {\"title\": \"Recall.Standard deviation = 0.13221541248486385\"}, {\"plotlyServerURL\": \"https://plot.ly\", \"showLink\": true, \"linkText\": \"Export to plot.ly\"})});</script><script type=\"text/javascript\">window.addEventListener(\"resize\", function(){window._Plotly.Plots.resize(document.getElementById(\"b749793f-4489-4581-b266-bae809c0e5d5\"));});</script>"
      ],
      "text/vnd.plotly.v1+html": [
       "<div id=\"b749793f-4489-4581-b266-bae809c0e5d5\" style=\"height: 525px; width: 100%;\" class=\"plotly-graph-div\"></div><script type=\"text/javascript\">require([\"plotly\"], function(Plotly) { window.PLOTLYENV=window.PLOTLYENV || {};window.PLOTLYENV.BASE_URL=\"https://plot.ly\";Plotly.newPlot(\"b749793f-4489-4581-b266-bae809c0e5d5\", [{\"textposition\": \"auto\", \"name\": \"split 1\", \"type\": \"bar\", \"y\": [0.9583333333333334, 0.8333333333333334, 0.5, 0.8571428571428571, 1.0], \"marker\": {\"line\": {\"color\": \"rgb(8,48,107)\", \"width\": 1.5}}, \"text\": [0.9583333333333334, 0.8333333333333334, 0.5, 0.8571428571428571, 1.0], \"opacity\": 0.6, \"uid\": \"010796e3-430b-4f48-a63e-a47b9ddff588\", \"x\": [\"DRAMA\", \"EROTIC\", \"RELIGION\", \"SONGS\", \"TEACHER\"]}, {\"textposition\": \"auto\", \"name\": \"split 2\", \"type\": \"bar\", \"y\": [1.0, 0.9166666666666666, 1.0, 0.8571428571428571, 0.7142857142857143], \"marker\": {\"line\": {\"color\": \"rgb(8,48,107)\", \"width\": 1.5}}, \"text\": [1.0, 0.9166666666666666, 1.0, 0.8571428571428571, 0.7142857142857143], \"opacity\": 0.6, \"uid\": \"3998a189-5e68-488d-b635-d92b3612fd96\", \"x\": [\"DRAMA\", \"EROTIC\", \"RELIGION\", \"SONGS\", \"TEACHER\"]}, {\"textposition\": \"auto\", \"name\": \"split 3\", \"type\": \"bar\", \"y\": [0.9565217391304348, 0.9090909090909091, 1.0, 1.0, 0.8333333333333334], \"marker\": {\"line\": {\"color\": \"rgb(8,48,107)\", \"width\": 1.5}}, \"text\": [0.9565217391304348, 0.9090909090909091, 1.0, 1.0, 0.8333333333333334], \"opacity\": 0.6, \"uid\": \"f86bb7a0-399d-496d-9a48-e168cb734571\", \"x\": [\"DRAMA\", \"EROTIC\", \"RELIGION\", \"SONGS\", \"TEACHER\"]}], {\"title\": \"Recall.Standard deviation = 0.13221541248486385\"}, {\"plotlyServerURL\": \"https://plot.ly\", \"showLink\": true, \"linkText\": \"Export to plot.ly\"})});</script><script type=\"text/javascript\">window.addEventListener(\"resize\", function(){window._Plotly.Plots.resize(document.getElementById(\"b749793f-4489-4581-b266-bae809c0e5d5\"));});</script>"
      ]
     },
     "metadata": {},
     "output_type": "display_data"
    }
   ],
   "source": [
    "offline.iplot(get_data_for_plot(recall, 'Recall', classes))"
   ]
  },
  {
   "cell_type": "markdown",
   "metadata": {},
   "source": [
    "Lets look at this picture. Low recall means that model can't find all objects which belong to one class."
   ]
  },
  {
   "cell_type": "code",
   "execution_count": 85,
   "metadata": {},
   "outputs": [
    {
     "data": {
      "application/vnd.plotly.v1+json": {
       "config": {
        "linkText": "Export to plot.ly",
        "plotlyServerURL": "https://plot.ly",
        "showLink": true
       },
       "data": [
        {
         "marker": {
          "line": {
           "color": "rgb(8,48,107)",
           "width": 1.5
          }
         },
         "name": "split 1",
         "opacity": 0.6,
         "text": [
          0.9019607843137256,
          0.9090909090909091,
          0.6666666666666666,
          0.923076923076923,
          0.9333333333333333
         ],
         "textposition": "auto",
         "type": "bar",
         "uid": "0f7534cc-38e9-447e-ab43-aec245638f14",
         "x": [
          "DRAMA",
          "EROTIC",
          "RELIGION",
          "SONGS",
          "TEACHER"
         ],
         "y": [
          0.9019607843137256,
          0.9090909090909091,
          0.6666666666666666,
          0.923076923076923,
          0.9333333333333333
         ]
        },
        {
         "marker": {
          "line": {
           "color": "rgb(8,48,107)",
           "width": 1.5
          }
         },
         "name": "split 2",
         "opacity": 0.6,
         "text": [
          0.9387755102040816,
          0.9565217391304348,
          1,
          0.8571428571428571,
          0.8333333333333333
         ],
         "textposition": "auto",
         "type": "bar",
         "uid": "74fde16c-7c79-4ed7-a094-d5c306a78fdf",
         "x": [
          "DRAMA",
          "EROTIC",
          "RELIGION",
          "SONGS",
          "TEACHER"
         ],
         "y": [
          0.9387755102040816,
          0.9565217391304348,
          1,
          0.8571428571428571,
          0.8333333333333333
         ]
        },
        {
         "marker": {
          "line": {
           "color": "rgb(8,48,107)",
           "width": 1.5
          }
         },
         "name": "split 3",
         "opacity": 0.6,
         "text": [
          0.9361702127659574,
          0.9523809523809523,
          1,
          0.9333333333333333,
          0.9090909090909091
         ],
         "textposition": "auto",
         "type": "bar",
         "uid": "5c32bca0-fbd5-43a1-a5fb-103451db4061",
         "x": [
          "DRAMA",
          "EROTIC",
          "RELIGION",
          "SONGS",
          "TEACHER"
         ],
         "y": [
          0.9361702127659574,
          0.9523809523809523,
          1,
          0.9333333333333333,
          0.9090909090909091
         ]
        }
       ],
       "layout": {
        "title": "F1.Standard deviation = 0.07783838776936298"
       }
      },
      "text/html": [
       "<div id=\"526a5c84-af56-4d16-89a9-a4932c788fcd\" style=\"height: 525px; width: 100%;\" class=\"plotly-graph-div\"></div><script type=\"text/javascript\">require([\"plotly\"], function(Plotly) { window.PLOTLYENV=window.PLOTLYENV || {};window.PLOTLYENV.BASE_URL=\"https://plot.ly\";Plotly.newPlot(\"526a5c84-af56-4d16-89a9-a4932c788fcd\", [{\"textposition\": \"auto\", \"name\": \"split 1\", \"type\": \"bar\", \"y\": [0.9019607843137256, 0.9090909090909091, 0.6666666666666666, 0.923076923076923, 0.9333333333333333], \"marker\": {\"line\": {\"color\": \"rgb(8,48,107)\", \"width\": 1.5}}, \"text\": [0.9019607843137256, 0.9090909090909091, 0.6666666666666666, 0.923076923076923, 0.9333333333333333], \"opacity\": 0.6, \"uid\": \"0f7534cc-38e9-447e-ab43-aec245638f14\", \"x\": [\"DRAMA\", \"EROTIC\", \"RELIGION\", \"SONGS\", \"TEACHER\"]}, {\"textposition\": \"auto\", \"name\": \"split 2\", \"type\": \"bar\", \"y\": [0.9387755102040816, 0.9565217391304348, 1.0, 0.8571428571428571, 0.8333333333333333], \"marker\": {\"line\": {\"color\": \"rgb(8,48,107)\", \"width\": 1.5}}, \"text\": [0.9387755102040816, 0.9565217391304348, 1.0, 0.8571428571428571, 0.8333333333333333], \"opacity\": 0.6, \"uid\": \"74fde16c-7c79-4ed7-a094-d5c306a78fdf\", \"x\": [\"DRAMA\", \"EROTIC\", \"RELIGION\", \"SONGS\", \"TEACHER\"]}, {\"textposition\": \"auto\", \"name\": \"split 3\", \"type\": \"bar\", \"y\": [0.9361702127659574, 0.9523809523809523, 1.0, 0.9333333333333333, 0.9090909090909091], \"marker\": {\"line\": {\"color\": \"rgb(8,48,107)\", \"width\": 1.5}}, \"text\": [0.9361702127659574, 0.9523809523809523, 1.0, 0.9333333333333333, 0.9090909090909091], \"opacity\": 0.6, \"uid\": \"5c32bca0-fbd5-43a1-a5fb-103451db4061\", \"x\": [\"DRAMA\", \"EROTIC\", \"RELIGION\", \"SONGS\", \"TEACHER\"]}], {\"title\": \"F1.Standard deviation = 0.07783838776936298\"}, {\"plotlyServerURL\": \"https://plot.ly\", \"showLink\": true, \"linkText\": \"Export to plot.ly\"})});</script><script type=\"text/javascript\">window.addEventListener(\"resize\", function(){window._Plotly.Plots.resize(document.getElementById(\"526a5c84-af56-4d16-89a9-a4932c788fcd\"));});</script>"
      ],
      "text/vnd.plotly.v1+html": [
       "<div id=\"526a5c84-af56-4d16-89a9-a4932c788fcd\" style=\"height: 525px; width: 100%;\" class=\"plotly-graph-div\"></div><script type=\"text/javascript\">require([\"plotly\"], function(Plotly) { window.PLOTLYENV=window.PLOTLYENV || {};window.PLOTLYENV.BASE_URL=\"https://plot.ly\";Plotly.newPlot(\"526a5c84-af56-4d16-89a9-a4932c788fcd\", [{\"textposition\": \"auto\", \"name\": \"split 1\", \"type\": \"bar\", \"y\": [0.9019607843137256, 0.9090909090909091, 0.6666666666666666, 0.923076923076923, 0.9333333333333333], \"marker\": {\"line\": {\"color\": \"rgb(8,48,107)\", \"width\": 1.5}}, \"text\": [0.9019607843137256, 0.9090909090909091, 0.6666666666666666, 0.923076923076923, 0.9333333333333333], \"opacity\": 0.6, \"uid\": \"0f7534cc-38e9-447e-ab43-aec245638f14\", \"x\": [\"DRAMA\", \"EROTIC\", \"RELIGION\", \"SONGS\", \"TEACHER\"]}, {\"textposition\": \"auto\", \"name\": \"split 2\", \"type\": \"bar\", \"y\": [0.9387755102040816, 0.9565217391304348, 1.0, 0.8571428571428571, 0.8333333333333333], \"marker\": {\"line\": {\"color\": \"rgb(8,48,107)\", \"width\": 1.5}}, \"text\": [0.9387755102040816, 0.9565217391304348, 1.0, 0.8571428571428571, 0.8333333333333333], \"opacity\": 0.6, \"uid\": \"74fde16c-7c79-4ed7-a094-d5c306a78fdf\", \"x\": [\"DRAMA\", \"EROTIC\", \"RELIGION\", \"SONGS\", \"TEACHER\"]}, {\"textposition\": \"auto\", \"name\": \"split 3\", \"type\": \"bar\", \"y\": [0.9361702127659574, 0.9523809523809523, 1.0, 0.9333333333333333, 0.9090909090909091], \"marker\": {\"line\": {\"color\": \"rgb(8,48,107)\", \"width\": 1.5}}, \"text\": [0.9361702127659574, 0.9523809523809523, 1.0, 0.9333333333333333, 0.9090909090909091], \"opacity\": 0.6, \"uid\": \"5c32bca0-fbd5-43a1-a5fb-103451db4061\", \"x\": [\"DRAMA\", \"EROTIC\", \"RELIGION\", \"SONGS\", \"TEACHER\"]}], {\"title\": \"F1.Standard deviation = 0.07783838776936298\"}, {\"plotlyServerURL\": \"https://plot.ly\", \"showLink\": true, \"linkText\": \"Export to plot.ly\"})});</script><script type=\"text/javascript\">window.addEventListener(\"resize\", function(){window._Plotly.Plots.resize(document.getElementById(\"526a5c84-af56-4d16-89a9-a4932c788fcd\"));});</script>"
      ]
     },
     "metadata": {},
     "output_type": "display_data"
    }
   ],
   "source": [
    "offline.iplot(get_data_for_plot(f1, 'F1', classes))"
   ]
  },
  {
   "cell_type": "code",
   "execution_count": 86,
   "metadata": {},
   "outputs": [
    {
     "name": "stderr",
     "output_type": "stream",
     "text": [
      "/home/nikolay/anaconda3/lib/python3.5/site-packages/ipykernel_launcher.py:58: RuntimeWarning:\n",
      "\n",
      "overflow encountered in exp\n",
      "\n"
     ]
    }
   ],
   "source": [
    "naive = NaiveBayes()\n",
    "naive.fit(X_train.values, y_train.values)\n",
    "predicted = naive.predict(X_test.values)"
   ]
  },
  {
   "cell_type": "code",
   "execution_count": 87,
   "metadata": {},
   "outputs": [],
   "source": [
    "confusion_matrix, precision, recall, f1, acc = get_report(y_test.values, predicted)"
   ]
  },
  {
   "cell_type": "code",
   "execution_count": 88,
   "metadata": {},
   "outputs": [
    {
     "data": {
      "text/html": [
       "<div>\n",
       "<style scoped>\n",
       "    .dataframe tbody tr th:only-of-type {\n",
       "        vertical-align: middle;\n",
       "    }\n",
       "\n",
       "    .dataframe tbody tr th {\n",
       "        vertical-align: top;\n",
       "    }\n",
       "\n",
       "    .dataframe thead th {\n",
       "        text-align: right;\n",
       "    }\n",
       "</style>\n",
       "<table border=\"1\" class=\"dataframe\">\n",
       "  <thead>\n",
       "    <tr style=\"text-align: right;\">\n",
       "      <th></th>\n",
       "      <th>Precision</th>\n",
       "      <th>Recall</th>\n",
       "      <th>F1</th>\n",
       "      <th>Accuracity</th>\n",
       "    </tr>\n",
       "  </thead>\n",
       "  <tbody>\n",
       "    <tr>\n",
       "      <th>DRAMA</th>\n",
       "      <td>0.916667</td>\n",
       "      <td>0.956522</td>\n",
       "      <td>0.936170</td>\n",
       "      <td>0.9375</td>\n",
       "    </tr>\n",
       "    <tr>\n",
       "      <th>EROTIC</th>\n",
       "      <td>1.000000</td>\n",
       "      <td>0.909091</td>\n",
       "      <td>0.952381</td>\n",
       "      <td></td>\n",
       "    </tr>\n",
       "    <tr>\n",
       "      <th>RELIGION</th>\n",
       "      <td>1.000000</td>\n",
       "      <td>1.000000</td>\n",
       "      <td>1.000000</td>\n",
       "      <td></td>\n",
       "    </tr>\n",
       "    <tr>\n",
       "      <th>SONGS</th>\n",
       "      <td>0.875000</td>\n",
       "      <td>1.000000</td>\n",
       "      <td>0.933333</td>\n",
       "      <td></td>\n",
       "    </tr>\n",
       "    <tr>\n",
       "      <th>TEACHER</th>\n",
       "      <td>1.000000</td>\n",
       "      <td>0.833333</td>\n",
       "      <td>0.909091</td>\n",
       "      <td></td>\n",
       "    </tr>\n",
       "  </tbody>\n",
       "</table>\n",
       "</div>"
      ],
      "text/plain": [
       "          Precision    Recall        F1 Accuracity\n",
       "DRAMA      0.916667  0.956522  0.936170     0.9375\n",
       "EROTIC     1.000000  0.909091  0.952381           \n",
       "RELIGION   1.000000  1.000000  1.000000           \n",
       "SONGS      0.875000  1.000000  0.933333           \n",
       "TEACHER    1.000000  0.833333  0.909091           "
      ]
     },
     "execution_count": 88,
     "metadata": {},
     "output_type": "execute_result"
    }
   ],
   "source": [
    "PRA(precision, recall, f1, acc, np.unique(data['target'].values))"
   ]
  },
  {
   "cell_type": "code",
   "execution_count": 89,
   "metadata": {},
   "outputs": [
    {
     "data": {
      "text/html": [
       "<div>\n",
       "<style scoped>\n",
       "    .dataframe tbody tr th:only-of-type {\n",
       "        vertical-align: middle;\n",
       "    }\n",
       "\n",
       "    .dataframe tbody tr th {\n",
       "        vertical-align: top;\n",
       "    }\n",
       "\n",
       "    .dataframe thead th {\n",
       "        text-align: right;\n",
       "    }\n",
       "</style>\n",
       "<table border=\"1\" class=\"dataframe\">\n",
       "  <thead>\n",
       "    <tr style=\"text-align: right;\">\n",
       "      <th></th>\n",
       "      <th>Actual DRAMA</th>\n",
       "      <th>Actual EROTIC</th>\n",
       "      <th>Actual RELIGION</th>\n",
       "      <th>Actual SONGS</th>\n",
       "      <th>Actual TEACHER</th>\n",
       "    </tr>\n",
       "  </thead>\n",
       "  <tbody>\n",
       "    <tr>\n",
       "      <th>Predicted DRAMA</th>\n",
       "      <td>22</td>\n",
       "      <td>1</td>\n",
       "      <td>0</td>\n",
       "      <td>0</td>\n",
       "      <td>1</td>\n",
       "    </tr>\n",
       "    <tr>\n",
       "      <th>Predicted EROTIC</th>\n",
       "      <td>0</td>\n",
       "      <td>10</td>\n",
       "      <td>0</td>\n",
       "      <td>0</td>\n",
       "      <td>0</td>\n",
       "    </tr>\n",
       "    <tr>\n",
       "      <th>Predicted RELIGION</th>\n",
       "      <td>0</td>\n",
       "      <td>0</td>\n",
       "      <td>1</td>\n",
       "      <td>0</td>\n",
       "      <td>0</td>\n",
       "    </tr>\n",
       "    <tr>\n",
       "      <th>Predicted SONGS</th>\n",
       "      <td>1</td>\n",
       "      <td>0</td>\n",
       "      <td>0</td>\n",
       "      <td>7</td>\n",
       "      <td>0</td>\n",
       "    </tr>\n",
       "    <tr>\n",
       "      <th>Predicted TEACHER</th>\n",
       "      <td>0</td>\n",
       "      <td>0</td>\n",
       "      <td>0</td>\n",
       "      <td>0</td>\n",
       "      <td>5</td>\n",
       "    </tr>\n",
       "  </tbody>\n",
       "</table>\n",
       "</div>"
      ],
      "text/plain": [
       "                    Actual DRAMA  Actual EROTIC  Actual RELIGION  \\\n",
       "Predicted DRAMA               22              1                0   \n",
       "Predicted EROTIC               0             10                0   \n",
       "Predicted RELIGION             0              0                1   \n",
       "Predicted SONGS                1              0                0   \n",
       "Predicted TEACHER              0              0                0   \n",
       "\n",
       "                    Actual SONGS  Actual TEACHER  \n",
       "Predicted DRAMA                0               1  \n",
       "Predicted EROTIC               0               0  \n",
       "Predicted RELIGION             0               0  \n",
       "Predicted SONGS                7               0  \n",
       "Predicted TEACHER              0               5  "
      ]
     },
     "execution_count": 89,
     "metadata": {},
     "output_type": "execute_result"
    }
   ],
   "source": [
    "to_dataframe_confussion_matrix(confusion_matrix,np.unique(data['target'].values))"
   ]
  }
 ],
 "metadata": {
  "kernelspec": {
   "display_name": "Python 3",
   "language": "python",
   "name": "python3"
  },
  "language_info": {
   "codemirror_mode": {
    "name": "ipython",
    "version": 3
   },
   "file_extension": ".py",
   "mimetype": "text/x-python",
   "name": "python",
   "nbconvert_exporter": "python",
   "pygments_lexer": "ipython3",
   "version": "3.7.3"
  }
 },
 "nbformat": 4,
 "nbformat_minor": 2
}
