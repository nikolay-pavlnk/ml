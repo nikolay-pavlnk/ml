{
 "cells": [
  {
   "cell_type": "markdown",
   "metadata": {},
   "source": [
    "# Задание 2.1 - Нейронные сети\n",
    "\n",
    "В этом задании вы реализуете и натренируете настоящую нейроную сеть своими руками!\n",
    "\n",
    "В некотором смысле это будет расширением прошлого задания - нам нужно просто составить несколько линейных классификаторов вместе!\n",
    "\n",
    "<img src=\"https://i.redd.it/n9fgba8b0qr01.png\" alt=\"Stack_more_layers\" width=\"400px\"/>"
   ]
  },
  {
   "cell_type": "code",
   "execution_count": 1,
   "metadata": {},
   "outputs": [],
   "source": [
    "import numpy as np\n",
    "import matplotlib.pyplot as plt\n",
    "\n",
    "%matplotlib inline\n",
    "\n",
    "%load_ext autoreload\n",
    "%autoreload 2"
   ]
  },
  {
   "cell_type": "code",
   "execution_count": 2,
   "metadata": {
    "collapsed": true
   },
   "outputs": [],
   "source": [
    "from dataset import load_svhn, random_split_train_val\n",
    "from gradient_check import check_layer_gradient, check_layer_param_gradient, check_model_gradient\n",
    "from layers import FullyConnectedLayer, ReLULayer\n",
    "from model import TwoLayerNet\n",
    "from trainer import Trainer, Dataset\n",
    "from optim import SGD, MomentumSGD\n",
    "from metrics import multiclass_accuracy"
   ]
  },
  {
   "cell_type": "markdown",
   "metadata": {},
   "source": [
    "# Загружаем данные\n",
    "\n",
    "И разделяем их на training и validation."
   ]
  },
  {
   "cell_type": "code",
   "execution_count": 3,
   "metadata": {
    "collapsed": true
   },
   "outputs": [],
   "source": [
    "def prepare_for_neural_network(train_X, test_X):\n",
    "    train_flat = train_X.reshape(train_X.shape[0], -1).astype(np.float) / 255.0\n",
    "    test_flat = test_X.reshape(test_X.shape[0], -1).astype(np.float) / 255.0\n",
    "    \n",
    "    # Subtract mean\n",
    "    mean_image = np.mean(train_flat, axis = 0)\n",
    "    train_flat -= mean_image\n",
    "    test_flat -= mean_image\n",
    "    \n",
    "    return train_flat, test_flat\n",
    "    \n",
    "train_X, train_y, test_X, test_y = load_svhn(\"data\", max_train=10000, max_test=1000)    \n",
    "train_X, test_X = prepare_for_neural_network(train_X, test_X)\n",
    "# Split train into train and val\n",
    "train_X, train_y, val_X, val_y = random_split_train_val(train_X, train_y, num_val = 1000)"
   ]
  },
  {
   "cell_type": "markdown",
   "metadata": {},
   "source": [
    "# Как всегда, начинаем с кирпичиков\n",
    "\n",
    "Мы будем реализовывать необходимые нам слои по очереди. Каждый слой должен реализовать:\n",
    "- прямой проход (forward pass), который генерирует выход слоя по входу и запоминает необходимые данные\n",
    "- обратный проход (backward pass), который получает градиент по выходу слоя и вычисляет градиент по входу и по параметрам\n",
    "\n",
    "Начнем с ReLU, у которого параметров нет."
   ]
  },
  {
   "cell_type": "code",
   "execution_count": 4,
   "metadata": {
    "scrolled": false
   },
   "outputs": [
    {
     "name": "stdout",
     "output_type": "stream",
     "text": [
      "Gradient check passed!\n"
     ]
    }
   ],
   "source": [
    "# TODO: Implement ReLULayer layer in layers.py\n",
    "# Note: you'll need to copy implementation of the gradient_check function from the previous assignment\n",
    "\n",
    "X = np.array([[1,-2,3],\n",
    "              [-1, 2, 0.1]\n",
    "              ])\n",
    "\n",
    "assert check_layer_gradient(ReLULayer(), X)"
   ]
  },
  {
   "cell_type": "markdown",
   "metadata": {},
   "source": [
    "А теперь реализуем полносвязный слой (fully connected layer), у которого будет два массива параметров: W (weights) и B (bias).\n",
    "\n",
    "Все параметры наши слои будут использовать для параметров специальный класс `Param`, в котором будут храниться значения параметров и градиенты этих параметров, вычисляемые во время обратного прохода.\n",
    "\n",
    "Это даст возможность аккумулировать (суммировать) градиенты из разных частей функции потерь, например, из cross-entropy loss и regularization loss."
   ]
  },
  {
   "cell_type": "code",
   "execution_count": 5,
   "metadata": {},
   "outputs": [
    {
     "name": "stdout",
     "output_type": "stream",
     "text": [
      "Gradient check passed!\n",
      "Gradient check passed!\n",
      "Gradient check passed!\n"
     ]
    }
   ],
   "source": [
    "# TODO: Implement FullyConnected layer forward and backward methods\n",
    "assert check_layer_gradient(FullyConnectedLayer(3, 4), X)\n",
    "# TODO: Implement storing gradients for W and B\n",
    "assert check_layer_param_gradient(FullyConnectedLayer(3, 4), X, 'W')\n",
    "assert check_layer_param_gradient(FullyConnectedLayer(3, 4), X, 'B')"
   ]
  },
  {
   "cell_type": "markdown",
   "metadata": {},
   "source": [
    "## Создаем нейронную сеть\n",
    "\n",
    "Теперь мы реализуем простейшую нейронную сеть с двумя полносвязным слоями и нелинейностью ReLU. Реализуйте функцию `compute_loss_and_gradients`, она должна запустить прямой и обратный проход через оба слоя для вычисления градиентов.\n",
    "\n",
    "Не забудьте реализовать очистку градиентов в начале функции."
   ]
  },
  {
   "cell_type": "code",
   "execution_count": 6,
   "metadata": {
    "scrolled": true
   },
   "outputs": [
    {
     "name": "stdout",
     "output_type": "stream",
     "text": [
      "Checking gradient for W1\n",
      "Gradient check passed!\n",
      "Checking gradient for B1\n",
      "Gradient check passed!\n",
      "Checking gradient for W2\n",
      "Gradient check passed!\n",
      "Checking gradient for B2\n",
      "Gradient check passed!\n"
     ]
    },
    {
     "data": {
      "text/plain": [
       "True"
      ]
     },
     "execution_count": 6,
     "metadata": {},
     "output_type": "execute_result"
    }
   ],
   "source": [
    "# TODO: In model.py, implement compute_loss_and_gradients function\n",
    "model = TwoLayerNet(n_input = train_X.shape[1], n_output = 10, hidden_layer_size = 3, reg = 0)\n",
    "loss = model.compute_loss_and_gradients(train_X[:2], train_y[:2])\n",
    "\n",
    "# TODO Now implement backward pass and aggregate all of the params\n",
    "check_model_gradient(model, train_X[:2], train_y[:2])"
   ]
  },
  {
   "cell_type": "markdown",
   "metadata": {},
   "source": [
    "Теперь добавьте к модели регуляризацию - она должна прибавляться к loss и делать свой вклад в градиенты."
   ]
  },
  {
   "cell_type": "code",
   "execution_count": 7,
   "metadata": {},
   "outputs": [
    {
     "name": "stdout",
     "output_type": "stream",
     "text": [
      "Checking gradient for W1\n",
      "Gradient check passed!\n",
      "Checking gradient for B1\n",
      "Gradient check passed!\n",
      "Checking gradient for W2\n",
      "Gradient check passed!\n",
      "Checking gradient for B2\n",
      "Gradient check passed!\n"
     ]
    },
    {
     "data": {
      "text/plain": [
       "True"
      ]
     },
     "execution_count": 7,
     "metadata": {},
     "output_type": "execute_result"
    }
   ],
   "source": [
    "# TODO Now implement l2 regularization in the forward and backward pass\n",
    "model_with_reg = TwoLayerNet(n_input = train_X.shape[1], n_output = 10, hidden_layer_size = 3, reg = 1e1)\n",
    "loss_with_reg = model_with_reg.compute_loss_and_gradients(train_X[:2], train_y[:2])\n",
    "assert loss_with_reg > loss and not np.isclose(loss_with_reg, loss), \\\n",
    "    \"Loss with regularization (%2.4f) should be higher than without it (%2.4f)!\" % (loss, loss_with_reg)\n",
    "\n",
    "check_model_gradient(model_with_reg, train_X[:2], train_y[:2])"
   ]
  },
  {
   "cell_type": "markdown",
   "metadata": {},
   "source": [
    "Также реализуем функцию предсказания (вычисления значения) модели на новых данных.\n",
    "\n",
    "Какое значение точности мы ожидаем увидеть до начала тренировки?"
   ]
  },
  {
   "cell_type": "code",
   "execution_count": 8,
   "metadata": {},
   "outputs": [
    {
     "data": {
      "text/plain": [
       "0.16666666666666666"
      ]
     },
     "execution_count": 8,
     "metadata": {},
     "output_type": "execute_result"
    }
   ],
   "source": [
    "# Finally, implement predict function!\n",
    "\n",
    "# TODO: Implement predict function\n",
    "# What would be the value we expect?\n",
    "multiclass_accuracy(model_with_reg.predict(train_X[:30]), train_y[:30]) "
   ]
  },
  {
   "cell_type": "markdown",
   "metadata": {},
   "source": [
    "# Допишем код для процесса тренировки\n",
    "\n",
    "Если все реализовано корректно, значение функции ошибки должно уменьшаться с каждой эпохой, пусть и медленно. Не беспокойтесь пока про validation accuracy."
   ]
  },
  {
   "cell_type": "code",
   "execution_count": 162,
   "metadata": {},
   "outputs": [
    {
     "name": "stdout",
     "output_type": "stream",
     "text": [
      "Loss: 2.293639, Train accuracy: 0.196667, val accuracy: 0.206000\n",
      "Loss: 2.331382, Train accuracy: 0.196667, val accuracy: 0.206000\n",
      "Loss: 2.243131, Train accuracy: 0.196667, val accuracy: 0.206000\n",
      "Loss: 2.323745, Train accuracy: 0.196667, val accuracy: 0.206000\n",
      "Loss: 2.088912, Train accuracy: 0.196667, val accuracy: 0.206000\n",
      "Loss: 2.156995, Train accuracy: 0.196667, val accuracy: 0.206000\n",
      "Loss: 2.216808, Train accuracy: 0.196667, val accuracy: 0.206000\n",
      "Loss: 2.292144, Train accuracy: 0.196667, val accuracy: 0.206000\n",
      "Loss: 2.333013, Train accuracy: 0.196667, val accuracy: 0.206000\n",
      "Loss: 2.315664, Train accuracy: 0.196667, val accuracy: 0.206000\n",
      "Loss: 2.261385, Train accuracy: 0.196667, val accuracy: 0.206000\n",
      "Loss: 2.122566, Train accuracy: 0.196667, val accuracy: 0.206000\n",
      "Loss: 2.142476, Train accuracy: 0.196667, val accuracy: 0.206000\n",
      "Loss: 2.194526, Train accuracy: 0.196667, val accuracy: 0.206000\n",
      "Loss: 2.268271, Train accuracy: 0.196667, val accuracy: 0.206000\n",
      "Loss: 2.117908, Train accuracy: 0.196667, val accuracy: 0.206000\n",
      "Loss: 2.362601, Train accuracy: 0.196667, val accuracy: 0.206000\n",
      "Loss: 2.323970, Train accuracy: 0.196667, val accuracy: 0.206000\n",
      "Loss: 2.162284, Train accuracy: 0.196667, val accuracy: 0.206000\n",
      "Loss: 2.263068, Train accuracy: 0.196667, val accuracy: 0.206000\n"
     ]
    }
   ],
   "source": [
    "model = TwoLayerNet(n_input = train_X.shape[1], n_output = 10, hidden_layer_size = 100, reg = 1e1)\n",
    "dataset = Dataset(train_X, train_y, val_X, val_y)\n",
    "trainer = Trainer(model, dataset, SGD(), learning_rate = 1e-2)\n",
    "\n",
    "# TODO Implement missing pieces in Trainer.fit function\n",
    "# You should expect loss to go down every epoch, even if it's slow\n",
    "loss_history, train_history, val_history = trainer.fit()"
   ]
  },
  {
   "cell_type": "code",
   "execution_count": 168,
   "metadata": {},
   "outputs": [
    {
     "data": {
      "text/plain": [
       "[<matplotlib.lines.Line2D at 0x7f70609989e8>]"
      ]
     },
     "execution_count": 168,
     "metadata": {},
     "output_type": "execute_result"
    },
    {
     "data": {
      "image/png": "[encoded data removed]",
      "text/plain": [
       "<matplotlib.figure.Figure at 0x7f706084cb70>"
      ]
     },
     "metadata": {},
     "output_type": "display_data"
    }
   ],
   "source": [
    "plt.plot(train_history)\n",
    "plt.plot(val_history)"
   ]
  },
  {
   "cell_type": "markdown",
   "metadata": {},
   "source": [
    "# Улучшаем процесс тренировки\n",
    "\n",
    "Мы реализуем несколько ключевых оптимизаций, необходимых для тренировки современных нейросетей."
   ]
  },
  {
   "cell_type": "markdown",
   "metadata": {},
   "source": [
    "## Уменьшение скорости обучения (learning rate decay)\n",
    "\n",
    "Одна из необходимых оптимизаций во время тренировки нейронных сетей - постепенное уменьшение скорости обучения по мере тренировки.\n",
    "\n",
    "Один из стандартных методов - уменьшение скорости обучения (learning rate) каждые N эпох на коэффициент d (часто называемый decay). Значения N и d, как всегда, являются гиперпараметрами и должны подбираться на основе эффективности на проверочных данных (validation data). \n",
    "\n",
    "В нашем случае N будет равным 1."
   ]
  },
  {
   "cell_type": "code",
   "execution_count": 9,
   "metadata": {},
   "outputs": [
    {
     "name": "stdout",
     "output_type": "stream",
     "text": [
      "Loss: 5.959788, Train accuracy: 0.212667, val accuracy: 0.221000\n",
      "Loss: 2.810443, Train accuracy: 0.196778, val accuracy: 0.206000\n",
      "Loss: 2.363458, Train accuracy: 0.196667, val accuracy: 0.206000\n",
      "Loss: 2.339646, Train accuracy: 0.196667, val accuracy: 0.206000\n",
      "Loss: 2.290148, Train accuracy: 0.196667, val accuracy: 0.206000\n",
      "Loss: 2.293556, Train accuracy: 0.196667, val accuracy: 0.206000\n",
      "Loss: 2.340246, Train accuracy: 0.196667, val accuracy: 0.206000\n",
      "Loss: 2.108798, Train accuracy: 0.196667, val accuracy: 0.206000\n",
      "Loss: 2.228876, Train accuracy: 0.196667, val accuracy: 0.206000\n",
      "Loss: 2.308862, Train accuracy: 0.196667, val accuracy: 0.206000\n",
      "Loss: 2.297575, Train accuracy: 0.196667, val accuracy: 0.206000\n",
      "Loss: 2.160593, Train accuracy: 0.196667, val accuracy: 0.206000\n",
      "Loss: 2.225978, Train accuracy: 0.196667, val accuracy: 0.206000\n",
      "Loss: 2.304406, Train accuracy: 0.196667, val accuracy: 0.206000\n",
      "Loss: 2.267677, Train accuracy: 0.196667, val accuracy: 0.206000\n",
      "Loss: 2.114135, Train accuracy: 0.196667, val accuracy: 0.206000\n",
      "Loss: 2.154985, Train accuracy: 0.196667, val accuracy: 0.206000\n",
      "Loss: 2.100884, Train accuracy: 0.196667, val accuracy: 0.206000\n",
      "Loss: 2.305363, Train accuracy: 0.196667, val accuracy: 0.206000\n",
      "Loss: 2.223362, Train accuracy: 0.196667, val accuracy: 0.206000\n"
     ]
    }
   ],
   "source": [
    "# TODO Implement learning rate decay inside Trainer.fit method\n",
    "# Decay should happen once per epoch\n",
    "\n",
    "model = TwoLayerNet(n_input = train_X.shape[1], n_output = 10, hidden_layer_size = 100, reg = 1e-1)\n",
    "dataset = Dataset(train_X, train_y, val_X, val_y)\n",
    "trainer = Trainer(model, dataset, SGD(), learning_rate_decay=0.99)\n",
    "\n",
    "initial_learning_rate = trainer.learning_rate\n",
    "loss_history, train_history, val_history = trainer.fit()\n",
    "\n",
    "assert trainer.learning_rate < initial_learning_rate, \"Learning rate should've been reduced\"\n",
    "assert trainer.learning_rate > 0.5*initial_learning_rate, \"Learning rate shouldn'tve been reduced that much!\""
   ]
  },
  {
   "cell_type": "markdown",
   "metadata": {},
   "source": [
    "# Накопление импульса (Momentum SGD)\n",
    "\n",
    "Другой большой класс оптимизаций - использование более эффективных методов градиентного спуска. Мы реализуем один из них - накопление импульса (Momentum SGD).\n",
    "\n",
    "Этот метод хранит скорость движения, использует градиент для ее изменения на каждом шаге, и изменяет веса пропорционально значению скорости.\n",
    "(Физическая аналогия: Вместо скорости градиенты теперь будут задавать ускорение, но будет присутствовать сила трения.)\n",
    "\n",
    "```\n",
    "velocity = momentum * velocity - learning_rate * gradient \n",
    "w = w + velocity\n",
    "```\n",
    "\n",
    "`momentum` здесь коэффициент затухания, который тоже является гиперпараметром (к счастью, для него часто есть хорошее значение по умолчанию, типичный диапазон -- 0.8-0.99).\n",
    "\n",
    "Несколько полезных ссылок, где метод разбирается более подробно:  \n",
    "http://cs231n.github.io/neural-networks-3/#sgd  \n",
    "https://distill.pub/2017/momentum/"
   ]
  },
  {
   "cell_type": "code",
   "execution_count": 177,
   "metadata": {},
   "outputs": [
    {
     "name": "stdout",
     "output_type": "stream",
     "text": [
      "Loss: 19.938765, Train accuracy: 0.161222, val accuracy: 0.166000\n",
      "Loss: 16.958464, Train accuracy: 0.197444, val accuracy: 0.197000\n",
      "Loss: 14.492287, Train accuracy: 0.209889, val accuracy: 0.218000\n",
      "Loss: 12.618399, Train accuracy: 0.213444, val accuracy: 0.226000\n",
      "Loss: 10.977324, Train accuracy: 0.214556, val accuracy: 0.222000\n",
      "Loss: 9.715602, Train accuracy: 0.212333, val accuracy: 0.219000\n",
      "Loss: 8.437718, Train accuracy: 0.208667, val accuracy: 0.214000\n",
      "Loss: 7.463225, Train accuracy: 0.206667, val accuracy: 0.213000\n",
      "Loss: 6.748350, Train accuracy: 0.205333, val accuracy: 0.213000\n",
      "Loss: 5.918101, Train accuracy: 0.203778, val accuracy: 0.211000\n",
      "Loss: 5.552009, Train accuracy: 0.202111, val accuracy: 0.210000\n",
      "Loss: 4.985722, Train accuracy: 0.200111, val accuracy: 0.207000\n",
      "Loss: 4.628989, Train accuracy: 0.199333, val accuracy: 0.207000\n",
      "Loss: 4.238030, Train accuracy: 0.197889, val accuracy: 0.206000\n",
      "Loss: 3.998221, Train accuracy: 0.197222, val accuracy: 0.206000\n",
      "Loss: 3.717195, Train accuracy: 0.197111, val accuracy: 0.206000\n",
      "Loss: 3.444410, Train accuracy: 0.197000, val accuracy: 0.206000\n",
      "Loss: 3.381462, Train accuracy: 0.196667, val accuracy: 0.206000\n",
      "Loss: 3.283405, Train accuracy: 0.196667, val accuracy: 0.206000\n",
      "Loss: 2.970597, Train accuracy: 0.196667, val accuracy: 0.206000\n"
     ]
    }
   ],
   "source": [
    "# TODO: Implement MomentumSGD.update function in optim.py\n",
    "\n",
    "model = TwoLayerNet(n_input = train_X.shape[1], n_output = 10, hidden_layer_size = 100, reg = 1e-1)\n",
    "dataset = Dataset(train_X, train_y, val_X, val_y)\n",
    "trainer = Trainer(model, dataset, MomentumSGD(), learning_rate=1e-4, learning_rate_decay=0.99)\n",
    "\n",
    "# You should see even better results than before!\n",
    "loss_history, train_history, val_history = trainer.fit()"
   ]
  },
  {
   "cell_type": "markdown",
   "metadata": {},
   "source": [
    "# Ну что, давайте уже тренировать сеть!"
   ]
  },
  {
   "cell_type": "markdown",
   "metadata": {},
   "source": [
    "## Последний тест - переобучимся (overfit) на маленьком наборе данных\n",
    "\n",
    "Хороший способ проверить, все ли реализовано корректно - переобучить сеть на маленьком наборе данных.  \n",
    "Наша модель обладает достаточной мощностью, чтобы приблизить маленький набор данных идеально, поэтому мы ожидаем, что на нем мы быстро дойдем до 100% точности на тренировочном наборе. \n",
    "\n",
    "Если этого не происходит, то где-то была допущена ошибка!"
   ]
  },
  {
   "cell_type": "code",
   "execution_count": 178,
   "metadata": {},
   "outputs": [
    {
     "name": "stdout",
     "output_type": "stream",
     "text": [
      "Loss: 21.374876, Train accuracy: 0.600000, val accuracy: 0.000000\n",
      "Loss: 19.051324, Train accuracy: 0.733333, val accuracy: 0.000000\n",
      "Loss: 16.651458, Train accuracy: 0.733333, val accuracy: 0.000000\n",
      "Loss: 14.594582, Train accuracy: 0.866667, val accuracy: 0.000000\n",
      "Loss: 12.864795, Train accuracy: 0.933333, val accuracy: 0.000000\n",
      "Loss: 12.388472, Train accuracy: 0.933333, val accuracy: 0.000000\n",
      "Loss: 10.842245, Train accuracy: 0.933333, val accuracy: 0.000000\n",
      "Loss: 9.586896, Train accuracy: 1.000000, val accuracy: 0.000000\n",
      "Loss: 8.752924, Train accuracy: 1.000000, val accuracy: 0.000000\n",
      "Loss: 7.633779, Train accuracy: 1.000000, val accuracy: 0.000000\n",
      "Loss: 6.828739, Train accuracy: 1.000000, val accuracy: 0.000000\n",
      "Loss: 6.369760, Train accuracy: 1.000000, val accuracy: 0.000000\n",
      "Loss: 5.708310, Train accuracy: 1.000000, val accuracy: 0.000000\n",
      "Loss: 5.325574, Train accuracy: 1.000000, val accuracy: 0.000000\n",
      "Loss: 4.679985, Train accuracy: 1.000000, val accuracy: 0.000000\n",
      "Loss: 4.479309, Train accuracy: 1.000000, val accuracy: 0.000000\n",
      "Loss: 4.089431, Train accuracy: 1.000000, val accuracy: 0.000000\n",
      "Loss: 3.441857, Train accuracy: 1.000000, val accuracy: 0.000000\n",
      "Loss: 3.431180, Train accuracy: 1.000000, val accuracy: 0.000000\n",
      "Loss: 3.260503, Train accuracy: 1.000000, val accuracy: 0.000000\n",
      "Loss: 3.050232, Train accuracy: 1.000000, val accuracy: 0.000000\n",
      "Loss: 2.890424, Train accuracy: 1.000000, val accuracy: 0.000000\n",
      "Loss: 2.728682, Train accuracy: 1.000000, val accuracy: 0.000000\n",
      "Loss: 2.298923, Train accuracy: 1.000000, val accuracy: 0.000000\n",
      "Loss: 2.169093, Train accuracy: 1.000000, val accuracy: 0.000000\n",
      "Loss: 2.267653, Train accuracy: 1.000000, val accuracy: 0.000000\n",
      "Loss: 2.251601, Train accuracy: 1.000000, val accuracy: 0.000000\n",
      "Loss: 2.003948, Train accuracy: 1.000000, val accuracy: 0.000000\n",
      "Loss: 1.917564, Train accuracy: 1.000000, val accuracy: 0.000000\n",
      "Loss: 2.044669, Train accuracy: 1.000000, val accuracy: 0.000000\n",
      "Loss: 1.767506, Train accuracy: 1.000000, val accuracy: 0.000000\n",
      "Loss: 1.681627, Train accuracy: 1.000000, val accuracy: 0.000000\n",
      "Loss: 1.591412, Train accuracy: 1.000000, val accuracy: 0.000000\n",
      "Loss: 1.775379, Train accuracy: 1.000000, val accuracy: 0.000000\n",
      "Loss: 1.791155, Train accuracy: 1.000000, val accuracy: 0.000000\n",
      "Loss: 1.766059, Train accuracy: 1.000000, val accuracy: 0.000000\n",
      "Loss: 1.598887, Train accuracy: 1.000000, val accuracy: 0.000000\n",
      "Loss: 1.460655, Train accuracy: 1.000000, val accuracy: 0.000000\n",
      "Loss: 1.450208, Train accuracy: 1.000000, val accuracy: 0.000000\n",
      "Loss: 1.682266, Train accuracy: 1.000000, val accuracy: 0.000000\n",
      "Loss: 1.349724, Train accuracy: 1.000000, val accuracy: 0.000000\n",
      "Loss: 1.146742, Train accuracy: 1.000000, val accuracy: 0.000000\n",
      "Loss: 1.305890, Train accuracy: 1.000000, val accuracy: 0.000000\n",
      "Loss: 1.335910, Train accuracy: 1.000000, val accuracy: 0.000000\n",
      "Loss: 1.520856, Train accuracy: 1.000000, val accuracy: 0.000000\n",
      "Loss: 1.308548, Train accuracy: 1.000000, val accuracy: 0.000000\n",
      "Loss: 1.469069, Train accuracy: 1.000000, val accuracy: 0.000000\n",
      "Loss: 1.284302, Train accuracy: 1.000000, val accuracy: 0.000000\n",
      "Loss: 1.432474, Train accuracy: 1.000000, val accuracy: 0.000000\n",
      "Loss: 1.259661, Train accuracy: 1.000000, val accuracy: 0.000000\n",
      "Loss: 1.203229, Train accuracy: 1.000000, val accuracy: 0.000000\n",
      "Loss: 1.287923, Train accuracy: 1.000000, val accuracy: 0.000000\n",
      "Loss: 1.115633, Train accuracy: 1.000000, val accuracy: 0.000000\n",
      "Loss: 1.142061, Train accuracy: 1.000000, val accuracy: 0.000000\n",
      "Loss: 1.438234, Train accuracy: 1.000000, val accuracy: 0.000000\n",
      "Loss: 1.244308, Train accuracy: 1.000000, val accuracy: 0.000000\n",
      "Loss: 1.150502, Train accuracy: 1.000000, val accuracy: 0.000000\n",
      "Loss: 1.169358, Train accuracy: 1.000000, val accuracy: 0.000000\n",
      "Loss: 1.271722, Train accuracy: 1.000000, val accuracy: 0.000000\n",
      "Loss: 1.195966, Train accuracy: 1.000000, val accuracy: 0.000000\n",
      "Loss: 1.407214, Train accuracy: 1.000000, val accuracy: 0.000000\n",
      "Loss: 1.179999, Train accuracy: 1.000000, val accuracy: 0.000000\n",
      "Loss: 1.313140, Train accuracy: 1.000000, val accuracy: 0.000000\n",
      "Loss: 1.360720, Train accuracy: 1.000000, val accuracy: 0.066667\n",
      "Loss: 1.240966, Train accuracy: 1.000000, val accuracy: 0.000000\n",
      "Loss: 1.217474, Train accuracy: 1.000000, val accuracy: 0.000000\n",
      "Loss: 1.175062, Train accuracy: 1.000000, val accuracy: 0.000000\n",
      "Loss: 1.313516, Train accuracy: 1.000000, val accuracy: 0.066667\n",
      "Loss: 1.237527, Train accuracy: 1.000000, val accuracy: 0.000000\n",
      "Loss: 1.276566, Train accuracy: 1.000000, val accuracy: 0.000000\n",
      "Loss: 1.280212, Train accuracy: 1.000000, val accuracy: 0.000000\n",
      "Loss: 1.065696, Train accuracy: 1.000000, val accuracy: 0.000000\n",
      "Loss: 1.297631, Train accuracy: 1.000000, val accuracy: 0.000000\n",
      "Loss: 1.178964, Train accuracy: 1.000000, val accuracy: 0.000000\n",
      "Loss: 1.159501, Train accuracy: 1.000000, val accuracy: 0.000000\n",
      "Loss: 1.263178, Train accuracy: 1.000000, val accuracy: 0.000000\n",
      "Loss: 1.118477, Train accuracy: 1.000000, val accuracy: 0.000000\n",
      "Loss: 1.170110, Train accuracy: 1.000000, val accuracy: 0.000000\n",
      "Loss: 1.174324, Train accuracy: 1.000000, val accuracy: 0.066667\n",
      "Loss: 1.076659, Train accuracy: 1.000000, val accuracy: 0.000000\n",
      "Loss: 1.117908, Train accuracy: 1.000000, val accuracy: 0.000000\n",
      "Loss: 1.082999, Train accuracy: 1.000000, val accuracy: 0.000000\n",
      "Loss: 1.185787, Train accuracy: 1.000000, val accuracy: 0.000000\n",
      "Loss: 1.086967, Train accuracy: 1.000000, val accuracy: 0.000000\n",
      "Loss: 1.214905, Train accuracy: 1.000000, val accuracy: 0.000000\n",
      "Loss: 1.215769, Train accuracy: 1.000000, val accuracy: 0.000000\n",
      "Loss: 1.043167, Train accuracy: 1.000000, val accuracy: 0.066667\n",
      "Loss: 1.257264, Train accuracy: 1.000000, val accuracy: 0.066667\n",
      "Loss: 1.246800, Train accuracy: 1.000000, val accuracy: 0.066667\n",
      "Loss: 1.145925, Train accuracy: 1.000000, val accuracy: 0.000000\n",
      "Loss: 1.147084, Train accuracy: 1.000000, val accuracy: 0.000000\n",
      "Loss: 1.235328, Train accuracy: 1.000000, val accuracy: 0.000000\n",
      "Loss: 1.280576, Train accuracy: 1.000000, val accuracy: 0.066667\n",
      "Loss: 1.293484, Train accuracy: 1.000000, val accuracy: 0.000000\n",
      "Loss: 1.241144, Train accuracy: 1.000000, val accuracy: 0.000000\n",
      "Loss: 1.238588, Train accuracy: 1.000000, val accuracy: 0.066667\n",
      "Loss: 1.277277, Train accuracy: 1.000000, val accuracy: 0.066667\n",
      "Loss: 1.189096, Train accuracy: 1.000000, val accuracy: 0.000000\n",
      "Loss: 1.158719, Train accuracy: 1.000000, val accuracy: 0.000000\n",
      "Loss: 1.275550, Train accuracy: 1.000000, val accuracy: 0.000000\n",
      "Loss: 1.101146, Train accuracy: 1.000000, val accuracy: 0.000000\n",
      "Loss: 1.386811, Train accuracy: 1.000000, val accuracy: 0.066667\n",
      "Loss: 1.058246, Train accuracy: 1.000000, val accuracy: 0.066667\n",
      "Loss: 1.400303, Train accuracy: 1.000000, val accuracy: 0.066667\n",
      "Loss: 1.256934, Train accuracy: 1.000000, val accuracy: 0.000000\n",
      "Loss: 1.157033, Train accuracy: 1.000000, val accuracy: 0.000000\n",
      "Loss: 1.120682, Train accuracy: 1.000000, val accuracy: 0.000000\n",
      "Loss: 1.127741, Train accuracy: 1.000000, val accuracy: 0.000000\n",
      "Loss: 1.242728, Train accuracy: 1.000000, val accuracy: 0.000000\n",
      "Loss: 1.181878, Train accuracy: 1.000000, val accuracy: 0.066667\n",
      "Loss: 1.198520, Train accuracy: 1.000000, val accuracy: 0.000000\n",
      "Loss: 1.171869, Train accuracy: 1.000000, val accuracy: 0.000000\n",
      "Loss: 1.132241, Train accuracy: 1.000000, val accuracy: 0.000000\n",
      "Loss: 1.064577, Train accuracy: 1.000000, val accuracy: 0.000000\n",
      "Loss: 1.150250, Train accuracy: 1.000000, val accuracy: 0.066667\n",
      "Loss: 1.070922, Train accuracy: 1.000000, val accuracy: 0.000000\n",
      "Loss: 1.184622, Train accuracy: 1.000000, val accuracy: 0.000000\n",
      "Loss: 1.231262, Train accuracy: 1.000000, val accuracy: 0.000000\n",
      "Loss: 1.023551, Train accuracy: 1.000000, val accuracy: 0.000000\n",
      "Loss: 1.024629, Train accuracy: 1.000000, val accuracy: 0.000000\n",
      "Loss: 1.366098, Train accuracy: 1.000000, val accuracy: 0.066667\n",
      "Loss: 1.175095, Train accuracy: 1.000000, val accuracy: 0.000000\n",
      "Loss: 1.108002, Train accuracy: 1.000000, val accuracy: 0.000000\n",
      "Loss: 1.089509, Train accuracy: 1.000000, val accuracy: 0.000000\n",
      "Loss: 1.061342, Train accuracy: 1.000000, val accuracy: 0.000000\n",
      "Loss: 1.053780, Train accuracy: 1.000000, val accuracy: 0.066667\n",
      "Loss: 1.139201, Train accuracy: 1.000000, val accuracy: 0.066667\n",
      "Loss: 1.240571, Train accuracy: 1.000000, val accuracy: 0.066667\n",
      "Loss: 1.009454, Train accuracy: 1.000000, val accuracy: 0.066667\n",
      "Loss: 1.176335, Train accuracy: 1.000000, val accuracy: 0.000000\n",
      "Loss: 1.289641, Train accuracy: 1.000000, val accuracy: 0.000000\n",
      "Loss: 1.226521, Train accuracy: 1.000000, val accuracy: 0.066667\n",
      "Loss: 1.310165, Train accuracy: 1.000000, val accuracy: 0.000000\n"
     ]
    },
    {
     "name": "stdout",
     "output_type": "stream",
     "text": [
      "Loss: 1.207816, Train accuracy: 1.000000, val accuracy: 0.000000\n",
      "Loss: 1.109094, Train accuracy: 1.000000, val accuracy: 0.000000\n",
      "Loss: 1.161196, Train accuracy: 1.000000, val accuracy: 0.000000\n",
      "Loss: 1.177317, Train accuracy: 1.000000, val accuracy: 0.066667\n",
      "Loss: 1.292173, Train accuracy: 1.000000, val accuracy: 0.000000\n",
      "Loss: 1.076073, Train accuracy: 1.000000, val accuracy: 0.066667\n",
      "Loss: 1.238660, Train accuracy: 1.000000, val accuracy: 0.000000\n",
      "Loss: 1.124724, Train accuracy: 1.000000, val accuracy: 0.000000\n",
      "Loss: 1.085249, Train accuracy: 1.000000, val accuracy: 0.066667\n",
      "Loss: 1.208011, Train accuracy: 1.000000, val accuracy: 0.066667\n",
      "Loss: 1.206139, Train accuracy: 1.000000, val accuracy: 0.000000\n",
      "Loss: 1.208842, Train accuracy: 1.000000, val accuracy: 0.000000\n",
      "Loss: 1.169755, Train accuracy: 1.000000, val accuracy: 0.066667\n",
      "Loss: 1.173944, Train accuracy: 1.000000, val accuracy: 0.000000\n",
      "Loss: 1.326019, Train accuracy: 1.000000, val accuracy: 0.066667\n",
      "Loss: 1.112550, Train accuracy: 1.000000, val accuracy: 0.066667\n",
      "Loss: 1.236060, Train accuracy: 1.000000, val accuracy: 0.066667\n"
     ]
    }
   ],
   "source": [
    "data_size = 15\n",
    "model = TwoLayerNet(n_input = train_X.shape[1], n_output = 10, hidden_layer_size = 100, reg = 1e-1)\n",
    "dataset = Dataset(train_X[:data_size], train_y[:data_size], val_X[:data_size], val_y[:data_size])\n",
    "trainer = Trainer(model, dataset, SGD(), learning_rate=1e-1, num_epochs=150, batch_size=5)\n",
    "\n",
    "# You should expect this to reach 1.0 training accuracy \n",
    "loss_history, train_history, val_history = trainer.fit()"
   ]
  },
  {
   "cell_type": "markdown",
   "metadata": {},
   "source": [
    "Теперь найдем гипепараметры, для которых этот процесс сходится быстрее.\n",
    "Если все реализовано корректно, то существуют параметры, при которых процесс сходится в **20** эпох или еще быстрее.\n",
    "Найдите их!"
   ]
  },
  {
   "cell_type": "code",
   "execution_count": 179,
   "metadata": {},
   "outputs": [
    {
     "name": "stdout",
     "output_type": "stream",
     "text": [
      "Loss: 4.659986, Train accuracy: 0.600000, val accuracy: 0.000000\n",
      "Loss: 3.610599, Train accuracy: 0.666667, val accuracy: 0.000000\n",
      "Loss: 3.661780, Train accuracy: 1.000000, val accuracy: 0.000000\n",
      "Loss: 2.918763, Train accuracy: 1.000000, val accuracy: 0.000000\n",
      "Loss: 2.627560, Train accuracy: 1.000000, val accuracy: 0.000000\n",
      "Loss: 2.400381, Train accuracy: 1.000000, val accuracy: 0.000000\n",
      "Loss: 2.331302, Train accuracy: 1.000000, val accuracy: 0.000000\n",
      "Loss: 2.336832, Train accuracy: 1.000000, val accuracy: 0.000000\n",
      "Loss: 2.101700, Train accuracy: 1.000000, val accuracy: 0.000000\n",
      "Loss: 2.240602, Train accuracy: 1.000000, val accuracy: 0.000000\n",
      "Loss: 2.198261, Train accuracy: 1.000000, val accuracy: 0.000000\n",
      "Loss: 2.117779, Train accuracy: 1.000000, val accuracy: 0.000000\n",
      "Loss: 1.991601, Train accuracy: 1.000000, val accuracy: 0.000000\n",
      "Loss: 2.072640, Train accuracy: 1.000000, val accuracy: 0.000000\n",
      "Loss: 2.052095, Train accuracy: 1.000000, val accuracy: 0.000000\n",
      "Loss: 1.911227, Train accuracy: 1.000000, val accuracy: 0.000000\n",
      "Loss: 1.903598, Train accuracy: 1.000000, val accuracy: 0.000000\n",
      "Loss: 1.881326, Train accuracy: 1.000000, val accuracy: 0.000000\n",
      "Loss: 1.872710, Train accuracy: 1.000000, val accuracy: 0.000000\n",
      "Loss: 1.879317, Train accuracy: 1.000000, val accuracy: 0.000000\n"
     ]
    }
   ],
   "source": [
    "# Now, tweak some hyper parameters and make it train to 1.0 accuracy in 20 epochs or less\n",
    "\n",
    "model = TwoLayerNet(n_input = train_X.shape[1], n_output = 10, hidden_layer_size = 100, reg = 1e-2)\n",
    "dataset = Dataset(train_X[:data_size], train_y[:data_size], val_X[:data_size], val_y[:data_size])\n",
    "# TODO: Change any hyperparamers or optimizators to reach training accuracy in 20 epochs\n",
    "trainer = Trainer(model, dataset, SGD(), learning_rate=1e-1, num_epochs=20, batch_size=5)\n",
    "\n",
    "loss_history, train_history, val_history = trainer.fit()"
   ]
  },
  {
   "cell_type": "markdown",
   "metadata": {},
   "source": [
    "# Итак, основное мероприятие!\n",
    "\n",
    "Натренируйте лучшую нейросеть! Можно добавлять и изменять параметры, менять количество нейронов в слоях сети и как угодно экспериментировать. \n",
    "\n",
    "Добейтесь точности лучше **60%** на validation set."
   ]
  },
  {
   "cell_type": "code",
   "execution_count": 10,
   "metadata": {
    "collapsed": true
   },
   "outputs": [],
   "source": [
    "from itertools import product"
   ]
  },
  {
   "cell_type": "code",
   "execution_count": 20,
   "metadata": {
    "scrolled": true
   },
   "outputs": [
    {
     "name": "stdout",
     "output_type": "stream",
     "text": [
      "Loss: 2.365096, Train accuracy: 0.225889, val accuracy: 0.233000\n",
      "Loss: 2.160626, Train accuracy: 0.225889, val accuracy: 0.233000\n",
      "Loss: 2.058380, Train accuracy: 0.225889, val accuracy: 0.233000\n",
      "Loss: 2.374260, Train accuracy: 0.225889, val accuracy: 0.233000\n",
      "Loss: 2.326371, Train accuracy: 0.225889, val accuracy: 0.233000\n",
      "Loss: 2.319729, Train accuracy: 0.225889, val accuracy: 0.233000\n",
      "Loss: 2.489240, Train accuracy: 0.225889, val accuracy: 0.233000\n",
      "Loss: 2.307766, Train accuracy: 0.225889, val accuracy: 0.233000\n",
      "Loss: 2.459314, Train accuracy: 0.225889, val accuracy: 0.233000\n",
      "Loss: 2.183502, Train accuracy: 0.225889, val accuracy: 0.233000\n",
      "Loss: 1.951422, Train accuracy: 0.225889, val accuracy: 0.233000\n",
      "Loss: 2.097149, Train accuracy: 0.225889, val accuracy: 0.233000\n",
      "Loss: 2.460607, Train accuracy: 0.225889, val accuracy: 0.233000\n",
      "Loss: 2.189889, Train accuracy: 0.225889, val accuracy: 0.233000\n",
      "Loss: 1.967995, Train accuracy: 0.225889, val accuracy: 0.233000\n",
      "Loss: 2.295400, Train accuracy: 0.225889, val accuracy: 0.233000\n",
      "Loss: 1.952473, Train accuracy: 0.225889, val accuracy: 0.233000\n",
      "Loss: 2.217743, Train accuracy: 0.225889, val accuracy: 0.233000\n",
      "Loss: 1.914588, Train accuracy: 0.225889, val accuracy: 0.233000\n",
      "Loss: 2.142995, Train accuracy: 0.225889, val accuracy: 0.233000\n",
      "Loss: 2.009563, Train accuracy: 0.225889, val accuracy: 0.233000\n",
      "Loss: 2.306234, Train accuracy: 0.225889, val accuracy: 0.233000\n",
      "Loss: 2.242325, Train accuracy: 0.225889, val accuracy: 0.233000\n",
      "Loss: 2.398925, Train accuracy: 0.225889, val accuracy: 0.233000\n",
      "Loss: 2.333435, Train accuracy: 0.225889, val accuracy: 0.233000\n",
      "Loss: 2.295581, Train accuracy: 0.225889, val accuracy: 0.233000\n",
      "Loss: 2.277843, Train accuracy: 0.225889, val accuracy: 0.233000\n",
      "Loss: 2.252647, Train accuracy: 0.225889, val accuracy: 0.233000\n",
      "Loss: 2.294132, Train accuracy: 0.225889, val accuracy: 0.233000\n",
      "Loss: 2.125649, Train accuracy: 0.225889, val accuracy: 0.233000\n",
      "Loss: 2.075582, Train accuracy: 0.225889, val accuracy: 0.233000\n",
      "Loss: 2.326869, Train accuracy: 0.225889, val accuracy: 0.233000\n",
      "Loss: 2.366151, Train accuracy: 0.225889, val accuracy: 0.233000\n",
      "Loss: 2.291867, Train accuracy: 0.225889, val accuracy: 0.233000\n",
      "Loss: 2.003237, Train accuracy: 0.225889, val accuracy: 0.233000\n",
      "Loss: 2.220381, Train accuracy: 0.225889, val accuracy: 0.233000\n",
      "Loss: 2.359696, Train accuracy: 0.225889, val accuracy: 0.233000\n",
      "Loss: 1.880478, Train accuracy: 0.225889, val accuracy: 0.233000\n",
      "Loss: 2.221735, Train accuracy: 0.225889, val accuracy: 0.233000\n",
      "Loss: 2.032001, Train accuracy: 0.225889, val accuracy: 0.233000\n",
      "Loss: 2.252174, Train accuracy: 0.225889, val accuracy: 0.233000\n",
      "Loss: 2.063649, Train accuracy: 0.225889, val accuracy: 0.233000\n",
      "Loss: 2.165009, Train accuracy: 0.225889, val accuracy: 0.233000\n",
      "Loss: 2.114185, Train accuracy: 0.225889, val accuracy: 0.233000\n",
      "Loss: 2.289818, Train accuracy: 0.225889, val accuracy: 0.233000\n",
      "Loss: 2.089005, Train accuracy: 0.225889, val accuracy: 0.233000\n",
      "Loss: 2.411559, Train accuracy: 0.225889, val accuracy: 0.233000\n",
      "Loss: 2.423720, Train accuracy: 0.225889, val accuracy: 0.233000\n",
      "Loss: 2.115269, Train accuracy: 0.225889, val accuracy: 0.233000\n",
      "Loss: 2.235662, Train accuracy: 0.225889, val accuracy: 0.233000\n",
      "Loss: 1.840600, Train accuracy: 0.225889, val accuracy: 0.233000\n",
      "Loss: 2.223064, Train accuracy: 0.225889, val accuracy: 0.233000\n",
      "Loss: 2.069679, Train accuracy: 0.225889, val accuracy: 0.233000\n",
      "Loss: 2.281856, Train accuracy: 0.225889, val accuracy: 0.233000\n",
      "Loss: 2.105160, Train accuracy: 0.225889, val accuracy: 0.233000\n",
      "Loss: 2.208978, Train accuracy: 0.225889, val accuracy: 0.233000\n",
      "Loss: 2.271962, Train accuracy: 0.225889, val accuracy: 0.233000\n",
      "Loss: 2.236506, Train accuracy: 0.225889, val accuracy: 0.233000\n",
      "Loss: 2.416232, Train accuracy: 0.225889, val accuracy: 0.233000\n",
      "Loss: 2.353095, Train accuracy: 0.225889, val accuracy: 0.233000\n",
      "Loss: 2.455532, Train accuracy: 0.225889, val accuracy: 0.233000\n",
      "Loss: 2.127250, Train accuracy: 0.225889, val accuracy: 0.233000\n",
      "Loss: 2.332214, Train accuracy: 0.225889, val accuracy: 0.233000\n",
      "Loss: 2.160802, Train accuracy: 0.225889, val accuracy: 0.233000\n",
      "Loss: 2.494420, Train accuracy: 0.225889, val accuracy: 0.233000\n",
      "Loss: 2.330434, Train accuracy: 0.225889, val accuracy: 0.233000\n",
      "Loss: 2.094688, Train accuracy: 0.225889, val accuracy: 0.233000\n",
      "Loss: 2.239211, Train accuracy: 0.225889, val accuracy: 0.233000\n",
      "Loss: 2.105515, Train accuracy: 0.225889, val accuracy: 0.233000\n",
      "Loss: 2.071555, Train accuracy: 0.225889, val accuracy: 0.233000\n",
      "Loss: 2.268331, Train accuracy: 0.225889, val accuracy: 0.233000\n",
      "Loss: 2.372373, Train accuracy: 0.225889, val accuracy: 0.233000\n",
      "Loss: 2.343268, Train accuracy: 0.225889, val accuracy: 0.233000\n",
      "Loss: 2.313086, Train accuracy: 0.225889, val accuracy: 0.233000\n",
      "Loss: 2.251810, Train accuracy: 0.225889, val accuracy: 0.233000\n",
      "Loss: 2.350933, Train accuracy: 0.225889, val accuracy: 0.233000\n",
      "Loss: 2.266638, Train accuracy: 0.225889, val accuracy: 0.233000\n",
      "Loss: 2.534893, Train accuracy: 0.225889, val accuracy: 0.233000\n",
      "Loss: 2.442353, Train accuracy: 0.225889, val accuracy: 0.233000\n",
      "Loss: 2.303799, Train accuracy: 0.225889, val accuracy: 0.233000\n",
      "Loss: 2.085810, Train accuracy: 0.225889, val accuracy: 0.233000\n",
      "Loss: 2.161662, Train accuracy: 0.225889, val accuracy: 0.233000\n",
      "Loss: 2.324090, Train accuracy: 0.225889, val accuracy: 0.233000\n",
      "Loss: 2.172207, Train accuracy: 0.225889, val accuracy: 0.233000\n",
      "Loss: 2.126443, Train accuracy: 0.225889, val accuracy: 0.233000\n",
      "Loss: 2.118266, Train accuracy: 0.225889, val accuracy: 0.233000\n",
      "Loss: 2.467985, Train accuracy: 0.225889, val accuracy: 0.233000\n",
      "Loss: 2.351470, Train accuracy: 0.225889, val accuracy: 0.233000\n",
      "Loss: 2.172606, Train accuracy: 0.225889, val accuracy: 0.233000\n",
      "Loss: 2.187415, Train accuracy: 0.225889, val accuracy: 0.233000\n",
      "Loss: 1.902194, Train accuracy: 0.225889, val accuracy: 0.233000\n",
      "Loss: 2.235267, Train accuracy: 0.225889, val accuracy: 0.233000\n",
      "Loss: 2.209091, Train accuracy: 0.225889, val accuracy: 0.233000\n",
      "Loss: 2.125545, Train accuracy: 0.225889, val accuracy: 0.233000\n"
     ]
    },
    {
     "ename": "KeyboardInterrupt",
     "evalue": "",
     "output_type": "error",
     "traceback": [
      "\u001b[0;31m---------------------------------------------------------------------------\u001b[0m",
      "\u001b[0;31mKeyboardInterrupt\u001b[0m                         Traceback (most recent call last)",
      "\u001b[0;32m<ipython-input-20-8e75d6fa5dd1>\u001b[0m in \u001b[0;36m<module>\u001b[0;34m()\u001b[0m\n\u001b[1;32m     10\u001b[0m \u001b[0mdataset\u001b[0m \u001b[0;34m=\u001b[0m \u001b[0mDataset\u001b[0m\u001b[0;34m(\u001b[0m\u001b[0mtrain_X\u001b[0m\u001b[0;34m,\u001b[0m \u001b[0mtrain_y\u001b[0m\u001b[0;34m,\u001b[0m \u001b[0mval_X\u001b[0m\u001b[0;34m,\u001b[0m \u001b[0mval_y\u001b[0m\u001b[0;34m)\u001b[0m\u001b[0;34m\u001b[0m\u001b[0m\n\u001b[1;32m     11\u001b[0m \u001b[0;34m\u001b[0m\u001b[0m\n\u001b[0;32m---> 12\u001b[0;31m \u001b[0mloss_history\u001b[0m\u001b[0;34m,\u001b[0m \u001b[0mtrain_history\u001b[0m\u001b[0;34m,\u001b[0m \u001b[0mval_history\u001b[0m \u001b[0;34m=\u001b[0m \u001b[0mtrainer\u001b[0m\u001b[0;34m.\u001b[0m\u001b[0mfit\u001b[0m\u001b[0;34m(\u001b[0m\u001b[0;34m)\u001b[0m\u001b[0;34m\u001b[0m\u001b[0m\n\u001b[0m\u001b[1;32m     13\u001b[0m \u001b[0;34m\u001b[0m\u001b[0m\n\u001b[1;32m     14\u001b[0m \u001b[0mbest_classifier\u001b[0m \u001b[0;34m=\u001b[0m \u001b[0;32mNone\u001b[0m\u001b[0;34m\u001b[0m\u001b[0m\n",
      "\u001b[0;32m~/dev/DL/dlcourse_ai-master/assignments/assignment2/trainer.py\u001b[0m in \u001b[0;36mfit\u001b[0;34m(self)\u001b[0m\n\u001b[1;32m     99\u001b[0m \u001b[0;34m\u001b[0m\u001b[0m\n\u001b[1;32m    100\u001b[0m                 loss = self.model.compute_loss_and_gradients(self.dataset.train_X[batch_indices],\n\u001b[0;32m--> 101\u001b[0;31m                     self.dataset.train_y[batch_indices])\n\u001b[0m\u001b[1;32m    102\u001b[0m \u001b[0;34m\u001b[0m\u001b[0m\n\u001b[1;32m    103\u001b[0m \u001b[0;34m\u001b[0m\u001b[0m\n",
      "\u001b[0;32m~/dev/DL/dlcourse_ai-master/assignments/assignment2/model.py\u001b[0m in \u001b[0;36mcompute_loss_and_gradients\u001b[0;34m(self, X, y)\u001b[0m\n\u001b[1;32m     48\u001b[0m         \u001b[0mgrad_2\u001b[0m \u001b[0;34m=\u001b[0m \u001b[0mself\u001b[0m\u001b[0;34m.\u001b[0m\u001b[0msecond_layer\u001b[0m\u001b[0;34m.\u001b[0m\u001b[0mbackward\u001b[0m\u001b[0;34m(\u001b[0m\u001b[0mgrad\u001b[0m\u001b[0;34m)\u001b[0m\u001b[0;34m\u001b[0m\u001b[0m\n\u001b[1;32m     49\u001b[0m         \u001b[0mgrad_activation_1\u001b[0m \u001b[0;34m=\u001b[0m \u001b[0mself\u001b[0m\u001b[0;34m.\u001b[0m\u001b[0mfirst_activation\u001b[0m\u001b[0;34m.\u001b[0m\u001b[0mbackward\u001b[0m\u001b[0;34m(\u001b[0m\u001b[0mgrad_2\u001b[0m\u001b[0;34m)\u001b[0m\u001b[0;34m\u001b[0m\u001b[0m\n\u001b[0;32m---> 50\u001b[0;31m         \u001b[0mgrad_1\u001b[0m \u001b[0;34m=\u001b[0m \u001b[0mself\u001b[0m\u001b[0;34m.\u001b[0m\u001b[0mfirst_layer\u001b[0m\u001b[0;34m.\u001b[0m\u001b[0mbackward\u001b[0m\u001b[0;34m(\u001b[0m\u001b[0mgrad_activation_1\u001b[0m\u001b[0;34m)\u001b[0m\u001b[0;34m\u001b[0m\u001b[0m\n\u001b[0m\u001b[1;32m     51\u001b[0m \u001b[0;34m\u001b[0m\u001b[0m\n\u001b[1;32m     52\u001b[0m         \u001b[0mparams\u001b[0m \u001b[0;34m=\u001b[0m \u001b[0mself\u001b[0m\u001b[0;34m.\u001b[0m\u001b[0mparams\u001b[0m\u001b[0;34m(\u001b[0m\u001b[0;34m)\u001b[0m\u001b[0;34m\u001b[0m\u001b[0m\n",
      "\u001b[0;32m~/dev/DL/dlcourse_ai-master/assignments/assignment2/layers.py\u001b[0m in \u001b[0;36mbackward\u001b[0;34m(self, d_out)\u001b[0m\n\u001b[1;32m    154\u001b[0m         \"\"\"\n\u001b[1;32m    155\u001b[0m         \u001b[0md_input\u001b[0m \u001b[0;34m=\u001b[0m \u001b[0mnp\u001b[0m\u001b[0;34m.\u001b[0m\u001b[0mdot\u001b[0m\u001b[0;34m(\u001b[0m\u001b[0md_out\u001b[0m\u001b[0;34m,\u001b[0m \u001b[0mself\u001b[0m\u001b[0;34m.\u001b[0m\u001b[0mW\u001b[0m\u001b[0;34m.\u001b[0m\u001b[0mvalue\u001b[0m\u001b[0;34m.\u001b[0m\u001b[0mT\u001b[0m\u001b[0;34m)\u001b[0m\u001b[0;34m\u001b[0m\u001b[0m\n\u001b[0;32m--> 156\u001b[0;31m         \u001b[0mgrad_weights\u001b[0m \u001b[0;34m=\u001b[0m \u001b[0mnp\u001b[0m\u001b[0;34m.\u001b[0m\u001b[0mdot\u001b[0m\u001b[0;34m(\u001b[0m\u001b[0mself\u001b[0m\u001b[0;34m.\u001b[0m\u001b[0mX\u001b[0m\u001b[0;34m.\u001b[0m\u001b[0mT\u001b[0m\u001b[0;34m,\u001b[0m \u001b[0md_out\u001b[0m\u001b[0;34m)\u001b[0m\u001b[0;34m\u001b[0m\u001b[0m\n\u001b[0m\u001b[1;32m    157\u001b[0m         \u001b[0mgrad_biases\u001b[0m \u001b[0;34m=\u001b[0m \u001b[0md_out\u001b[0m\u001b[0;34m.\u001b[0m\u001b[0mmean\u001b[0m\u001b[0;34m(\u001b[0m\u001b[0maxis\u001b[0m\u001b[0;34m=\u001b[0m\u001b[0;36m0\u001b[0m\u001b[0;34m)\u001b[0m \u001b[0;34m*\u001b[0m \u001b[0mself\u001b[0m\u001b[0;34m.\u001b[0m\u001b[0mX\u001b[0m\u001b[0;34m.\u001b[0m\u001b[0mshape\u001b[0m\u001b[0;34m[\u001b[0m\u001b[0;36m0\u001b[0m\u001b[0;34m]\u001b[0m\u001b[0;34m\u001b[0m\u001b[0m\n\u001b[1;32m    158\u001b[0m         \u001b[0mself\u001b[0m\u001b[0;34m.\u001b[0m\u001b[0mW\u001b[0m\u001b[0;34m.\u001b[0m\u001b[0mgrad\u001b[0m \u001b[0;34m+=\u001b[0m \u001b[0mgrad_weights\u001b[0m\u001b[0;34m\u001b[0m\u001b[0m\n",
      "\u001b[0;31mKeyboardInterrupt\u001b[0m: "
     ]
    }
   ],
   "source": [
    "# Let's train the best one-hidden-layer network we can\n",
    "\n",
    "learning_rates = [0.001]\n",
    "reg_strength = [0.001]\n",
    "learning_rate_decay = [0.98999999999999999]\n",
    "hidden_layer_size = [512]\n",
    "num_epochs = [300]\n",
    "batch_size = [32]\n",
    "\n",
    "dataset = Dataset(train_X, train_y, val_X, val_y)\n",
    "\n",
    "loss_history, train_history, val_history = trainer.fit()\n",
    "\n",
    "best_classifier = None\n",
    "best_val_accuracy = 0\n",
    "\n",
    "loss_history = []\n",
    "train_history = []\n",
    "val_history = []\n",
    "\n",
    "for lr, reg, dec, size, epochs, batch in list(product(*(learning_rates, reg_strength, learning_rate_decay, hidden_layer_size, num_epochs, batch_size))):\n",
    "    model = TwoLayerNet(n_input = train_X.shape[1], n_output = 10, hidden_layer_size = size, reg = reg)\n",
    "    trainer = Trainer(model, dataset, MomentumSGD(), learning_rate=lr, num_epochs=epochs, batch_size=batch, learning_rate_decay=dec)\n",
    "    loss_history, train_history, val_history = trainer.fit()\n",
    "    accuracy = trainer.compute_accuracy(val_X, val_y)\n",
    "    \n",
    "    if accuracy > best_val_accuracy:\n",
    "        best_classifier = model\n",
    "        best_val_accuracy = accuracy\n",
    "        best_params = {'reg': reg, 'lr': lr, 'decay': dec, 'hidden': size, 'epochs': epochs, 'batch': batch}\n",
    "\n",
    "print('best validation accuracy achieved: %f' % best_val_accuracy)"
   ]
  },
  {
   "cell_type": "code",
   "execution_count": 21,
   "metadata": {},
   "outputs": [
    {
     "data": {
      "text/plain": [
       "{'batch': 32,\n",
       " 'decay': 0.98999999999999999,\n",
       " 'epochs': 300,\n",
       " 'hidden': 254,\n",
       " 'lr': 0.001,\n",
       " 'reg': 0.001}"
      ]
     },
     "execution_count": 21,
     "metadata": {},
     "output_type": "execute_result"
    }
   ],
   "source": [
    "best_params"
   ]
  },
  {
   "cell_type": "code",
   "execution_count": 16,
   "metadata": {},
   "outputs": [
    {
     "data": {
      "text/plain": [
       "[<matplotlib.lines.Line2D at 0x7f0e651550b8>]"
      ]
     },
     "execution_count": 16,
     "metadata": {},
     "output_type": "execute_result"
    },
    {
     "data": {
      "image/png": "[encoded data removed]",
      "text/plain": [
       "<matplotlib.figure.Figure at 0x7f0e65296f98>"
      ]
     },
     "metadata": {},
     "output_type": "display_data"
    }
   ],
   "source": [
    "plt.figure(figsize=(15, 7))\n",
    "plt.subplot(211)\n",
    "plt.title(\"Loss\")\n",
    "plt.plot(loss_history)\n",
    "plt.subplot(212)\n",
    "plt.title(\"Train/validation accuracy\")\n",
    "plt.plot(train_history)\n",
    "plt.plot(val_history)"
   ]
  },
  {
   "cell_type": "markdown",
   "metadata": {},
   "source": [
    "# Как обычно, посмотрим, как наша лучшая модель работает на тестовых данных"
   ]
  },
  {
   "cell_type": "code",
   "execution_count": 22,
   "metadata": {},
   "outputs": [
    {
     "name": "stdout",
     "output_type": "stream",
     "text": [
      "Neural net test set accuracy: 0.742000\n"
     ]
    }
   ],
   "source": [
    "test_pred = best_classifier.predict(test_X)\n",
    "test_accuracy = multiclass_accuracy(test_pred, test_y)\n",
    "print('Neural net test set accuracy: %f' % (test_accuracy, ))"
   ]
  },
  {
   "cell_type": "code",
   "execution_count": 25,
   "metadata": {},
   "outputs": [
    {
     "data": {
      "text/plain": [
       "array([2, 1, 3, 0, 2], dtype=uint8)"
      ]
     },
     "execution_count": 25,
     "metadata": {},
     "output_type": "execute_result"
    }
   ],
   "source": [
    "test_y[:5]"
   ]
  },
  {
   "cell_type": "code",
   "execution_count": 26,
   "metadata": {},
   "outputs": [
    {
     "data": {
      "text/plain": [
       "array([2, 1, 3, 9, 2])"
      ]
     },
     "execution_count": 26,
     "metadata": {},
     "output_type": "execute_result"
    }
   ],
   "source": [
    "test_pred[:5]"
   ]
  },
  {
   "cell_type": "code",
   "execution_count": null,
   "metadata": {
    "collapsed": true
   },
   "outputs": [],
   "source": []
  }
 ],
 "metadata": {
  "kernelspec": {
   "display_name": "Python 3",
   "language": "python",
   "name": "python3"
  },
  "language_info": {
   "codemirror_mode": {
    "name": "ipython",
    "version": 3
   },
   "file_extension": ".py",
   "mimetype": "text/x-python",
   "name": "python",
   "nbconvert_exporter": "python",
   "pygments_lexer": "ipython3",
   "version": "3.6.3"
  }
 },
 "nbformat": 4,
 "nbformat_minor": 2
}
