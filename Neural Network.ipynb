{
 "cells": [
  {
   "cell_type": "code",
   "execution_count": 1,
   "metadata": {},
   "outputs": [],
   "source": [
    "import numpy as np"
   ]
  },
  {
   "cell_type": "code",
   "execution_count": 266,
   "metadata": {},
   "outputs": [],
   "source": [
    "class NeuralNetwork(object):\n",
    "    def __init__(self, bias_input, bias_hidden, weights_input_hidden, weights_hidden_output, epochs, learning_rate, batch_size, activation, derivative_activation):\n",
    "        self.weights_input_hidden = weights_input_hidden\n",
    "        self.weights_hidden_output = weights_hidden_output\n",
    "        self.epochs = epochs\n",
    "        self.learning_rate = learning_rate\n",
    "        self.activation = activation\n",
    "        self.derivative_activation = derivative_activation\n",
    "        self.batch_size = batch_size\n",
    "        self.bias_input = bias_input\n",
    "        self.bias_hidden = bias_hidden\n",
    "        \n",
    "    def summatory(self, A, w):\n",
    "        return np.dot(w, A)\n",
    "        \n",
    "    def direct_propogation(self, X):\n",
    "        \n",
    "        self.Z_hidden = self.summatory(X, self.weights_input_hidden)\n",
    "        self.A_hidden = self.activation(self.Z_hidden)\n",
    "        self.Z_output = self.summatory(self.A_hidden, self.weights_hidden_output)\n",
    "        self.A_output = self.activation(self.Z_output)\n",
    "        \n",
    "    def backward_propogation(self, X, y):\n",
    "        error_output = (self.A_output - y)\n",
    "        deltas_output = error_output * self.derivative_activation(self.Z_output)\n",
    "        deltas_hidden = np.dot(self.weights_hidden_output.T, deltas_output) * self.derivative_activation(self.Z_hidden)\n",
    "        weights_hidden_output_delta = self.A_hidden.T * deltas_output\n",
    "        weights_input_hidden_delta = np.dot(deltas_hidden, X.T)\n",
    "        bias_input = deltas_hidden\n",
    "        bias_hidden = deltas_output\n",
    "        return weights_hidden_output_delta, weights_input_hidden_delta, bias_hidden, bias_input\n",
    "        \n",
    "    def fit(self, X, y):\n",
    "        X = np.array(X, ndmin=2).T\n",
    "        y = np.array(y, ndmin=2).T\n",
    "        for _ in np.arange(self.epochs):\n",
    "            for __ in np.arange(1):\n",
    "                #index = np.random.randint(0, X.shape[0], size=self.batch_size)\n",
    "                self.direct_propogation(X)\n",
    "                weights_hidden_output, weights_input_hidden, bias_hidden, bias_input = \\\n",
    "                                                            self.backward_propogation(X, y)\n",
    "                self.weights_input_hidden -= self.learning_rate * weights_input_hidden\n",
    "                self.weights_hidden_output -= self.learning_rate * weights_hidden_output\n",
    "                self.bias_input -= self.learning_rate * bias_input\n",
    "                self.bias_hidden -= self.learning_rate * bias_hidden"
   ]
  },
  {
   "cell_type": "code",
   "execution_count": 267,
   "metadata": {},
   "outputs": [],
   "source": [
    "weights_input_hidden = np.array([[0.2, 0.9, 0.6], [0.2, 0.3, 0.7]])\n",
    "weights_hidden_output = np.array([[0.2, 0.5]])\n",
    "bias_input = 0\n",
    "bias_hidden = 0"
   ]
  },
  {
   "cell_type": "code",
   "execution_count": 268,
   "metadata": {},
   "outputs": [],
   "source": [
    "def sigmoid(x):\n",
    "    return 1 / (1 + np.exp(-x))\n",
    "\n",
    "def prime_sigmoid(x):\n",
    "    return sigmoid(x) * (1 - sigmoid(x))"
   ]
  },
  {
   "cell_type": "code",
   "execution_count": 269,
   "metadata": {},
   "outputs": [],
   "source": [
    "neural = NeuralNetwork(bias_input, bias_hidden, weights_input_hidden, weights_hidden_output, 1, \n",
    "                       0.1, 1, sigmoid, prime_sigmoid)"
   ]
  },
  {
   "cell_type": "code",
   "execution_count": 270,
   "metadata": {},
   "outputs": [],
   "source": [
    "X = np.array([15., 5., 15.])\n",
    "y = 1"
   ]
  },
  {
   "cell_type": "code",
   "execution_count": 271,
   "metadata": {},
   "outputs": [],
   "source": [
    "neural.fit(X, y)"
   ]
  },
  {
   "cell_type": "code",
   "execution_count": 314,
   "metadata": {},
   "outputs": [],
   "source": [
    "weights_i_h = np.array([[0.7, 0.2, 0.7], [0.8, 0.3, 0.6]])\n",
    "weights_o_h = np.array([0.2, 0.4])\n",
    "Y = np.array([1], ndmin=2).T\n",
    "x = np.array([0, 1., 1.], ndmin=2).T"
   ]
  },
  {
   "cell_type": "code",
   "execution_count": 315,
   "metadata": {},
   "outputs": [],
   "source": [
    "def activation(x):\n",
    "    if x < 0:\n",
    "        return 0\n",
    "    else:\n",
    "        return x"
   ]
  },
  {
   "cell_type": "code",
   "execution_count": 316,
   "metadata": {},
   "outputs": [],
   "source": [
    "def derivative(x):\n",
    "    if x > 0:\n",
    "        return 1\n",
    "    else:\n",
    "        return 0"
   ]
  },
  {
   "cell_type": "code",
   "execution_count": 317,
   "metadata": {},
   "outputs": [
    {
     "data": {
      "text/plain": [
       "(3, 1)"
      ]
     },
     "execution_count": 317,
     "metadata": {},
     "output_type": "execute_result"
    }
   ],
   "source": [
    "x.shape"
   ]
  },
  {
   "cell_type": "code",
   "execution_count": 318,
   "metadata": {},
   "outputs": [
    {
     "data": {
      "text/plain": [
       "(2, 3)"
      ]
     },
     "execution_count": 318,
     "metadata": {},
     "output_type": "execute_result"
    }
   ],
   "source": [
    "weights_i_h.shape"
   ]
  },
  {
   "cell_type": "code",
   "execution_count": 319,
   "metadata": {},
   "outputs": [],
   "source": [
    "\n",
    "Z_h = np.dot(weights_i_h, x)\n",
    "A_h = np.zeros((2,1))\n",
    "A_h[0] = activation(Z_h[0])\n",
    "A_h[1] = sigmoid(Z_h[1])\n",
    "Z_o = np.dot(weights_o_h, A_h)\n",
    "A_o = sigmoid(Z_o)"
   ]
  },
  {
   "cell_type": "code",
   "execution_count": 320,
   "metadata": {},
   "outputs": [
    {
     "data": {
      "text/plain": [
       "array([[0.9      ],\n",
       "       [0.7109495]])"
      ]
     },
     "execution_count": 320,
     "metadata": {},
     "output_type": "execute_result"
    }
   ],
   "source": [
    "A_h"
   ]
  },
  {
   "cell_type": "code",
   "execution_count": 321,
   "metadata": {},
   "outputs": [],
   "source": [
    "error = A_o - Y\n",
    "delta_o = error * sigmoid(Z_o) * (1 - sigmoid(Z_o))\n",
    "delta_h = np.zeros((2,1))\n",
    "delta_h[0] = weights_o_h[0] * delta_o * derivative(Z_h[0])\n",
    "w_1 = delta_h[0] * x[2]\n",
    "w_2 = weights_o_h[1] * delta_o * prime_sigmoid(Z_h[1]) * x[2]"
   ]
  },
  {
   "cell_type": "code",
   "execution_count": 322,
   "metadata": {},
   "outputs": [
    {
     "data": {
      "text/plain": [
       "array([-0.01829328])"
      ]
     },
     "execution_count": 322,
     "metadata": {},
     "output_type": "execute_result"
    }
   ],
   "source": [
    "w_1"
   ]
  },
  {
   "cell_type": "code",
   "execution_count": 323,
   "metadata": {},
   "outputs": [
    {
     "data": {
      "text/plain": [
       "array([[-0.00751855]])"
      ]
     },
     "execution_count": 323,
     "metadata": {},
     "output_type": "execute_result"
    }
   ],
   "source": [
    "w_2"
   ]
  },
  {
   "cell_type": "code",
   "execution_count": 329,
   "metadata": {},
   "outputs": [
    {
     "data": {
      "text/plain": [
       "-0.35667494393873245"
      ]
     },
     "execution_count": 329,
     "metadata": {},
     "output_type": "execute_result"
    }
   ],
   "source": [
    "np.log(0.7)"
   ]
  },
  {
   "cell_type": "code",
   "execution_count": 332,
   "metadata": {},
   "outputs": [
    {
     "data": {
      "text/plain": [
       "0.15401181986551957"
      ]
     },
     "execution_count": 332,
     "metadata": {},
     "output_type": "execute_result"
    }
   ],
   "source": [
    "-(np.log(0.9) + np.log(0.7)) / 3"
   ]
  },
  {
   "cell_type": "code",
   "execution_count": null,
   "metadata": {},
   "outputs": [],
   "source": []
  }
 ],
 "metadata": {
  "kernelspec": {
   "display_name": "Python 3",
   "language": "python",
   "name": "python3"
  },
  "language_info": {
   "codemirror_mode": {
    "name": "ipython",
    "version": 3
   },
   "file_extension": ".py",
   "mimetype": "text/x-python",
   "name": "python",
   "nbconvert_exporter": "python",
   "pygments_lexer": "ipython3",
   "version": "3.7.3"
  }
 },
 "nbformat": 4,
 "nbformat_minor": 2
}
