{
 "cells": [
  {
   "cell_type": "code",
   "execution_count": 35,
   "metadata": {},
   "outputs": [],
   "source": [
    "import numpy as np"
   ]
  },
  {
   "cell_type": "code",
   "execution_count": 20,
   "metadata": {},
   "outputs": [],
   "source": [
    "class ReluLayer:\n",
    "    def forward(self, X):\n",
    "        self.X = X\n",
    "        return np.where(self.X > 0, X, 0)\n",
    "    \n",
    "    def backward(self, grad):\n",
    "        return np.where(grad > 0, 1, 0) * self.X"
   ]
  },
  {
   "cell_type": "code",
   "execution_count": 21,
   "metadata": {},
   "outputs": [],
   "source": [
    "class Dense:\n",
    "    def __init__(self, input_units, output_units, learning_rate=0.01):\n",
    "        self.learning_rate = learning_rate\n",
    "        self.weights = np.random.normal(loc=0.0, \n",
    "                                        scale = np.sqrt(2/(input_units+output_units)), \n",
    "                                        size = (input_units,output_units))\n",
    "        self.biases = np.zeros(output_units)\n",
    "        \n",
    "    def forward(self, X):\n",
    "        self.X = X\n",
    "        return np.dot(self.X, self.weights) + self.biases\n",
    "        \n",
    "    def backward(self, grad):\n",
    "        grad_input = np.dot(grad, self.weights.T)\n",
    "        grad_weights = np.dot(self.X.T, grad)\n",
    "        grad_biases = grad.mean(axis=0)*self.X.shape[0]\n",
    "        \n",
    "        assert grad_biases.shape == self.biases.shape and grad_weights == self.weights\n",
    "        \n",
    "        self.weights -= grad_weights * self.learning_rate\n",
    "        self.biases -= grad_biases * self.learning_rate\n",
    "        \n",
    "        return grad_input"
   ]
  },
  {
   "cell_type": "code",
   "execution_count": 27,
   "metadata": {},
   "outputs": [],
   "source": [
    "network = []\n",
    "network.append(Dense(X.shape[1],15))\n",
    "network.append(ReluLayer())\n",
    "network.append(Dense(15,10))\n",
    "network.append(ReluLayer())\n",
    "network.append(Dense(10,1))\n",
    "\n",
    "def forward(network, X):    \n",
    "    activations = []\n",
    "    input = X    \n",
    "    for l in network:\n",
    "        activations.append(l.forward(input))\n",
    "        input = activations[-1]\n",
    "    \n",
    "    assert len(activations) == len(network)\n",
    "    return activations\n",
    "\n",
    "\n",
    "def predict(network,X):\n",
    "    return logits.argmax(axis=-1)\n",
    "\n",
    "\n",
    "def train(network,X,y):\n",
    "    layer_activations = forward(network,X)\n",
    "    logits = layer_activations[-1]\n",
    "    \n",
    "    loss_grad = grad_softmax_crossentropy_with_logits(logits,y)\n",
    "    \n",
    "    for layer_index in range(len(network))[::-1]:\n",
    "        layer = network[layer_index]\n",
    "        \n",
    "        loss_grad = layer.backward(loss_grad) \n",
    "        \n",
    "    return np.mean(loss)"
   ]
  }
 ],
 "metadata": {
  "kernelspec": {
   "display_name": "Python 3",
   "language": "python",
   "name": "python3"
  },
  "language_info": {
   "codemirror_mode": {
    "name": "ipython",
    "version": 3
   },
   "file_extension": ".py",
   "mimetype": "text/x-python",
   "name": "python",
   "nbconvert_exporter": "python",
   "pygments_lexer": "ipython3",
   "version": "3.7.3"
  }
 },
 "nbformat": 4,
 "nbformat_minor": 2
}
